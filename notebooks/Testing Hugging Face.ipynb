{
  "cells": [
    {
      "cell_type": "code",
      "execution_count": 2,
      "metadata": {
        "colab": {
          "base_uri": "https://localhost:8080/"
        },
        "id": "bcd4d00e-8b9a-4b23-933d-30b64e9a453d",
        "outputId": "b0e8d631-b785-42fc-ad38-7738bd3b953b"
      },
      "outputs": [
        {
          "output_type": "stream",
          "name": "stdout",
          "text": [
            "Looking in indexes: https://pypi.org/simple, https://us-python.pkg.dev/colab-wheels/public/simple/\n",
            "Requirement already satisfied: transformers in /usr/local/lib/python3.10/dist-packages (4.30.2)\n",
            "Requirement already satisfied: filelock in /usr/local/lib/python3.10/dist-packages (from transformers) (3.12.0)\n",
            "Requirement already satisfied: huggingface-hub<1.0,>=0.14.1 in /usr/local/lib/python3.10/dist-packages (from transformers) (0.15.1)\n",
            "Requirement already satisfied: numpy>=1.17 in /usr/local/lib/python3.10/dist-packages (from transformers) (1.22.4)\n",
            "Requirement already satisfied: packaging>=20.0 in /usr/local/lib/python3.10/dist-packages (from transformers) (23.1)\n",
            "Requirement already satisfied: pyyaml>=5.1 in /usr/local/lib/python3.10/dist-packages (from transformers) (6.0)\n",
            "Requirement already satisfied: regex!=2019.12.17 in /usr/local/lib/python3.10/dist-packages (from transformers) (2022.10.31)\n",
            "Requirement already satisfied: requests in /usr/local/lib/python3.10/dist-packages (from transformers) (2.27.1)\n",
            "Requirement already satisfied: tokenizers!=0.11.3,<0.14,>=0.11.1 in /usr/local/lib/python3.10/dist-packages (from transformers) (0.13.3)\n",
            "Requirement already satisfied: safetensors>=0.3.1 in /usr/local/lib/python3.10/dist-packages (from transformers) (0.3.1)\n",
            "Requirement already satisfied: tqdm>=4.27 in /usr/local/lib/python3.10/dist-packages (from transformers) (4.65.0)\n",
            "Requirement already satisfied: fsspec in /usr/local/lib/python3.10/dist-packages (from huggingface-hub<1.0,>=0.14.1->transformers) (2023.4.0)\n",
            "Requirement already satisfied: typing-extensions>=3.7.4.3 in /usr/local/lib/python3.10/dist-packages (from huggingface-hub<1.0,>=0.14.1->transformers) (4.5.0)\n",
            "Requirement already satisfied: urllib3<1.27,>=1.21.1 in /usr/local/lib/python3.10/dist-packages (from requests->transformers) (1.26.15)\n",
            "Requirement already satisfied: certifi>=2017.4.17 in /usr/local/lib/python3.10/dist-packages (from requests->transformers) (2022.12.7)\n",
            "Requirement already satisfied: charset-normalizer~=2.0.0 in /usr/local/lib/python3.10/dist-packages (from requests->transformers) (2.0.12)\n",
            "Requirement already satisfied: idna<4,>=2.5 in /usr/local/lib/python3.10/dist-packages (from requests->transformers) (3.4)\n"
          ]
        }
      ],
      "source": [
        "!pip install transformers\n",
        "from transformers import pipeline\n",
        "\n"
      ],
      "id": "bcd4d00e-8b9a-4b23-933d-30b64e9a453d"
    },
    {
      "cell_type": "code",
      "execution_count": 3,
      "metadata": {
        "colab": {
          "base_uri": "https://localhost:8080/"
        },
        "id": "7f0b7400",
        "outputId": "8b128026-a746-46e8-9988-5f88ad465007"
      },
      "outputs": [
        {
          "output_type": "stream",
          "name": "stderr",
          "text": [
            "Xformers is not installed correctly. If you want to use memory_efficient_attention to accelerate training use the following command to install Xformers\n",
            "pip install xformers.\n",
            "Setting `pad_token_id` to `eos_token_id`:50256 for open-end generation.\n"
          ]
        },
        {
          "output_type": "execute_result",
          "data": {
            "text/plain": [
              "[{'generated_text': \"I HATE MY JOB.\\n\\n\\nThe following is another one that I'm looking forward to reading.\"},\n",
              " {'generated_text': 'I HATE MY JOB ON THIS ONE.\\n\\nI hate the lack of any rationalization for this problem. It must be a great deal'},\n",
              " {'generated_text': 'I HATE MY JOB!...I FOUND SOME RAGGED DIE!...I FOUND SOME CRITICAL DIE AT'}]"
            ]
          },
          "metadata": {},
          "execution_count": 3
        }
      ],
      "source": [
        "generator = pipeline('text-generation', model = 'gpt2')\n",
        "generator(\"I HATE MY JOB\", max_length = 30, num_return_sequences=3)\n",
        "## [{'generated_text': \"Hello, I'm a language modeler. So while writing this, when I went out to meet my wife or come home she told me that my\"},"
      ],
      "id": "7f0b7400"
    },
    {
      "cell_type": "markdown",
      "metadata": {
        "id": "540e515e"
      },
      "source": [
        "## Idea 1\n",
        "Train text generator on Amazon bad reviews\n"
      ],
      "id": "540e515e"
    },
    {
      "cell_type": "code",
      "execution_count": 4,
      "metadata": {
        "colab": {
          "base_uri": "https://localhost:8080/",
          "height": 607,
          "referenced_widgets": [
            "ae8b14830b7c4f808be4e90581ce69a6",
            "6511f0e79aa74f0690784ff78af02ed3",
            "132ff0a6e8a4470a912c6f1aaf4d27cc",
            "c5f2ed6405ae4a88890a1d2f99f39012",
            "665e07f1b1ff4f7094fe1e94b2fe5df8",
            "2e26e5c8d6f8476c8f7d4c850fe81e95",
            "75fc8360424641e6bdd9fd8a671b0431",
            "acddf8c8b66f4f1c930307048ecd823c",
            "5ab4f1e3989c48b58795f13ca65308ef",
            "7d2b4a1e178c4db886d74d1f83a3181f",
            "b739efdf068845038b14c089185993d1"
          ]
        },
        "id": "e42856d1",
        "outputId": "ad0bfaa7-c3c2-49d2-d0a0-016f00f0ffaf"
      },
      "outputs": [
        {
          "output_type": "stream",
          "name": "stdout",
          "text": [
            "Looking in indexes: https://pypi.org/simple, https://us-python.pkg.dev/colab-wheels/public/simple/\n",
            "Requirement already satisfied: datasets in /usr/local/lib/python3.10/dist-packages (2.13.0)\n",
            "Requirement already satisfied: numpy>=1.17 in /usr/local/lib/python3.10/dist-packages (from datasets) (1.22.4)\n",
            "Requirement already satisfied: pyarrow>=8.0.0 in /usr/local/lib/python3.10/dist-packages (from datasets) (9.0.0)\n",
            "Requirement already satisfied: dill<0.3.7,>=0.3.0 in /usr/local/lib/python3.10/dist-packages (from datasets) (0.3.6)\n",
            "Requirement already satisfied: pandas in /usr/local/lib/python3.10/dist-packages (from datasets) (1.5.3)\n",
            "Requirement already satisfied: requests>=2.19.0 in /usr/local/lib/python3.10/dist-packages (from datasets) (2.27.1)\n",
            "Requirement already satisfied: tqdm>=4.62.1 in /usr/local/lib/python3.10/dist-packages (from datasets) (4.65.0)\n",
            "Requirement already satisfied: xxhash in /usr/local/lib/python3.10/dist-packages (from datasets) (3.2.0)\n",
            "Requirement already satisfied: multiprocess in /usr/local/lib/python3.10/dist-packages (from datasets) (0.70.14)\n",
            "Requirement already satisfied: fsspec[http]>=2021.11.1 in /usr/local/lib/python3.10/dist-packages (from datasets) (2023.4.0)\n",
            "Requirement already satisfied: aiohttp in /usr/local/lib/python3.10/dist-packages (from datasets) (3.8.4)\n",
            "Requirement already satisfied: huggingface-hub<1.0.0,>=0.11.0 in /usr/local/lib/python3.10/dist-packages (from datasets) (0.15.1)\n",
            "Requirement already satisfied: packaging in /usr/local/lib/python3.10/dist-packages (from datasets) (23.1)\n",
            "Requirement already satisfied: pyyaml>=5.1 in /usr/local/lib/python3.10/dist-packages (from datasets) (6.0)\n",
            "Requirement already satisfied: attrs>=17.3.0 in /usr/local/lib/python3.10/dist-packages (from aiohttp->datasets) (23.1.0)\n",
            "Requirement already satisfied: charset-normalizer<4.0,>=2.0 in /usr/local/lib/python3.10/dist-packages (from aiohttp->datasets) (2.0.12)\n",
            "Requirement already satisfied: multidict<7.0,>=4.5 in /usr/local/lib/python3.10/dist-packages (from aiohttp->datasets) (6.0.4)\n",
            "Requirement already satisfied: async-timeout<5.0,>=4.0.0a3 in /usr/local/lib/python3.10/dist-packages (from aiohttp->datasets) (4.0.2)\n",
            "Requirement already satisfied: yarl<2.0,>=1.0 in /usr/local/lib/python3.10/dist-packages (from aiohttp->datasets) (1.9.2)\n",
            "Requirement already satisfied: frozenlist>=1.1.1 in /usr/local/lib/python3.10/dist-packages (from aiohttp->datasets) (1.3.3)\n",
            "Requirement already satisfied: aiosignal>=1.1.2 in /usr/local/lib/python3.10/dist-packages (from aiohttp->datasets) (1.3.1)\n",
            "Requirement already satisfied: filelock in /usr/local/lib/python3.10/dist-packages (from huggingface-hub<1.0.0,>=0.11.0->datasets) (3.12.0)\n",
            "Requirement already satisfied: typing-extensions>=3.7.4.3 in /usr/local/lib/python3.10/dist-packages (from huggingface-hub<1.0.0,>=0.11.0->datasets) (4.5.0)\n",
            "Requirement already satisfied: urllib3<1.27,>=1.21.1 in /usr/local/lib/python3.10/dist-packages (from requests>=2.19.0->datasets) (1.26.15)\n",
            "Requirement already satisfied: certifi>=2017.4.17 in /usr/local/lib/python3.10/dist-packages (from requests>=2.19.0->datasets) (2022.12.7)\n",
            "Requirement already satisfied: idna<4,>=2.5 in /usr/local/lib/python3.10/dist-packages (from requests>=2.19.0->datasets) (3.4)\n",
            "Requirement already satisfied: python-dateutil>=2.8.1 in /usr/local/lib/python3.10/dist-packages (from pandas->datasets) (2.8.2)\n",
            "Requirement already satisfied: pytz>=2020.1 in /usr/local/lib/python3.10/dist-packages (from pandas->datasets) (2022.7.1)\n",
            "Requirement already satisfied: six>=1.5 in /usr/local/lib/python3.10/dist-packages (from python-dateutil>=2.8.1->pandas->datasets) (1.16.0)\n"
          ]
        },
        {
          "output_type": "stream",
          "name": "stderr",
          "text": [
            "WARNING:datasets.builder:Found cached dataset amazon_us_reviews (/root/.cache/huggingface/datasets/amazon_us_reviews/Digital_Video_Games_v1_00/0.1.0/17b2481be59723469538adeb8fd0a68b0ba363bbbdd71090e72c325ee6c7e563)\n"
          ]
        },
        {
          "output_type": "display_data",
          "data": {
            "text/plain": [
              "  0%|          | 0/1 [00:00<?, ?it/s]"
            ],
            "application/vnd.jupyter.widget-view+json": {
              "version_major": 2,
              "version_minor": 0,
              "model_id": "ae8b14830b7c4f808be4e90581ce69a6"
            }
          },
          "metadata": {}
        }
      ],
      "source": [
        "!pip install datasets\n",
        "from datasets import load_dataset\n",
        "\n",
        "dataset = load_dataset(\"amazon_us_reviews\", \"Digital_Video_Games_v1_00\")"
      ],
      "id": "e42856d1"
    },
    {
      "cell_type": "code",
      "execution_count": 5,
      "metadata": {
        "id": "d96aa56a",
        "colab": {
          "base_uri": "https://localhost:8080/",
          "height": 461
        },
        "outputId": "2c351441-1c27-4d78-f3be-25c362a79b51"
      },
      "outputs": [
        {
          "output_type": "execute_result",
          "data": {
            "text/plain": [
              "  marketplace customer_id       review_id  product_id product_parent  \\\n",
              "0          US    21269168   RSH1OZ87OYK92  B013PURRZW      603406193   \n",
              "1          US      133437  R1WFOQ3N9BO65I  B00F4CEHNK      341969535   \n",
              "2          US    45765011   R3YOOS71KM5M9  B00DNHLFQA      951665344   \n",
              "3          US      113118  R3R14UATT3OUFU  B004RMK5QG      395682204   \n",
              "4          US    22151364   RV2W9SGDNQA2C  B00G9BNLQE      640460561   \n",
              "\n",
              "                                       product_title     product_category  \\\n",
              "0              Madden NFL 16 - Xbox One Digital Code  Digital_Video_Games   \n",
              "1                                Xbox Live Gift Card  Digital_Video_Games   \n",
              "2  Command & Conquer The Ultimate Collection [Ins...  Digital_Video_Games   \n",
              "3                      Playstation Plus Subscription  Digital_Video_Games   \n",
              "4  Saints Row IV - Enter The Dominatrix [Online G...  Digital_Video_Games   \n",
              "\n",
              "   star_rating  helpful_votes  total_votes  vine  verified_purchase  \\\n",
              "0            2              2            3     0                  0   \n",
              "1            5              0            0     0                  1   \n",
              "2            5              0            0     0                  1   \n",
              "3            5              0            0     0                  1   \n",
              "4            5              0            0     0                  1   \n",
              "\n",
              "                        review_headline  \\\n",
              "0  A slight improvement from last year.   \n",
              "1                            Five Stars   \n",
              "2               Hail to the great Yuri!   \n",
              "3                            Five Stars   \n",
              "4                            Five Stars   \n",
              "\n",
              "                                         review_body review_date  \n",
              "0  I keep buying madden every year hoping they ge...  2015-08-31  \n",
              "1                                            Awesome  2015-08-31  \n",
              "2  If you are prepping for the end of the world t...  2015-08-31  \n",
              "3                                            Perfect  2015-08-31  \n",
              "4                                           Awesome!  2015-08-31  "
            ],
            "text/html": [
              "\n",
              "  <div id=\"df-cfb61c33-9f4d-458c-9bba-537c2772ff52\">\n",
              "    <div class=\"colab-df-container\">\n",
              "      <div>\n",
              "<style scoped>\n",
              "    .dataframe tbody tr th:only-of-type {\n",
              "        vertical-align: middle;\n",
              "    }\n",
              "\n",
              "    .dataframe tbody tr th {\n",
              "        vertical-align: top;\n",
              "    }\n",
              "\n",
              "    .dataframe thead th {\n",
              "        text-align: right;\n",
              "    }\n",
              "</style>\n",
              "<table border=\"1\" class=\"dataframe\">\n",
              "  <thead>\n",
              "    <tr style=\"text-align: right;\">\n",
              "      <th></th>\n",
              "      <th>marketplace</th>\n",
              "      <th>customer_id</th>\n",
              "      <th>review_id</th>\n",
              "      <th>product_id</th>\n",
              "      <th>product_parent</th>\n",
              "      <th>product_title</th>\n",
              "      <th>product_category</th>\n",
              "      <th>star_rating</th>\n",
              "      <th>helpful_votes</th>\n",
              "      <th>total_votes</th>\n",
              "      <th>vine</th>\n",
              "      <th>verified_purchase</th>\n",
              "      <th>review_headline</th>\n",
              "      <th>review_body</th>\n",
              "      <th>review_date</th>\n",
              "    </tr>\n",
              "  </thead>\n",
              "  <tbody>\n",
              "    <tr>\n",
              "      <th>0</th>\n",
              "      <td>US</td>\n",
              "      <td>21269168</td>\n",
              "      <td>RSH1OZ87OYK92</td>\n",
              "      <td>B013PURRZW</td>\n",
              "      <td>603406193</td>\n",
              "      <td>Madden NFL 16 - Xbox One Digital Code</td>\n",
              "      <td>Digital_Video_Games</td>\n",
              "      <td>2</td>\n",
              "      <td>2</td>\n",
              "      <td>3</td>\n",
              "      <td>0</td>\n",
              "      <td>0</td>\n",
              "      <td>A slight improvement from last year.</td>\n",
              "      <td>I keep buying madden every year hoping they ge...</td>\n",
              "      <td>2015-08-31</td>\n",
              "    </tr>\n",
              "    <tr>\n",
              "      <th>1</th>\n",
              "      <td>US</td>\n",
              "      <td>133437</td>\n",
              "      <td>R1WFOQ3N9BO65I</td>\n",
              "      <td>B00F4CEHNK</td>\n",
              "      <td>341969535</td>\n",
              "      <td>Xbox Live Gift Card</td>\n",
              "      <td>Digital_Video_Games</td>\n",
              "      <td>5</td>\n",
              "      <td>0</td>\n",
              "      <td>0</td>\n",
              "      <td>0</td>\n",
              "      <td>1</td>\n",
              "      <td>Five Stars</td>\n",
              "      <td>Awesome</td>\n",
              "      <td>2015-08-31</td>\n",
              "    </tr>\n",
              "    <tr>\n",
              "      <th>2</th>\n",
              "      <td>US</td>\n",
              "      <td>45765011</td>\n",
              "      <td>R3YOOS71KM5M9</td>\n",
              "      <td>B00DNHLFQA</td>\n",
              "      <td>951665344</td>\n",
              "      <td>Command &amp; Conquer The Ultimate Collection [Ins...</td>\n",
              "      <td>Digital_Video_Games</td>\n",
              "      <td>5</td>\n",
              "      <td>0</td>\n",
              "      <td>0</td>\n",
              "      <td>0</td>\n",
              "      <td>1</td>\n",
              "      <td>Hail to the great Yuri!</td>\n",
              "      <td>If you are prepping for the end of the world t...</td>\n",
              "      <td>2015-08-31</td>\n",
              "    </tr>\n",
              "    <tr>\n",
              "      <th>3</th>\n",
              "      <td>US</td>\n",
              "      <td>113118</td>\n",
              "      <td>R3R14UATT3OUFU</td>\n",
              "      <td>B004RMK5QG</td>\n",
              "      <td>395682204</td>\n",
              "      <td>Playstation Plus Subscription</td>\n",
              "      <td>Digital_Video_Games</td>\n",
              "      <td>5</td>\n",
              "      <td>0</td>\n",
              "      <td>0</td>\n",
              "      <td>0</td>\n",
              "      <td>1</td>\n",
              "      <td>Five Stars</td>\n",
              "      <td>Perfect</td>\n",
              "      <td>2015-08-31</td>\n",
              "    </tr>\n",
              "    <tr>\n",
              "      <th>4</th>\n",
              "      <td>US</td>\n",
              "      <td>22151364</td>\n",
              "      <td>RV2W9SGDNQA2C</td>\n",
              "      <td>B00G9BNLQE</td>\n",
              "      <td>640460561</td>\n",
              "      <td>Saints Row IV - Enter The Dominatrix [Online G...</td>\n",
              "      <td>Digital_Video_Games</td>\n",
              "      <td>5</td>\n",
              "      <td>0</td>\n",
              "      <td>0</td>\n",
              "      <td>0</td>\n",
              "      <td>1</td>\n",
              "      <td>Five Stars</td>\n",
              "      <td>Awesome!</td>\n",
              "      <td>2015-08-31</td>\n",
              "    </tr>\n",
              "  </tbody>\n",
              "</table>\n",
              "</div>\n",
              "      <button class=\"colab-df-convert\" onclick=\"convertToInteractive('df-cfb61c33-9f4d-458c-9bba-537c2772ff52')\"\n",
              "              title=\"Convert this dataframe to an interactive table.\"\n",
              "              style=\"display:none;\">\n",
              "        \n",
              "  <svg xmlns=\"http://www.w3.org/2000/svg\" height=\"24px\"viewBox=\"0 0 24 24\"\n",
              "       width=\"24px\">\n",
              "    <path d=\"M0 0h24v24H0V0z\" fill=\"none\"/>\n",
              "    <path d=\"M18.56 5.44l.94 2.06.94-2.06 2.06-.94-2.06-.94-.94-2.06-.94 2.06-2.06.94zm-11 1L8.5 8.5l.94-2.06 2.06-.94-2.06-.94L8.5 2.5l-.94 2.06-2.06.94zm10 10l.94 2.06.94-2.06 2.06-.94-2.06-.94-.94-2.06-.94 2.06-2.06.94z\"/><path d=\"M17.41 7.96l-1.37-1.37c-.4-.4-.92-.59-1.43-.59-.52 0-1.04.2-1.43.59L10.3 9.45l-7.72 7.72c-.78.78-.78 2.05 0 2.83L4 21.41c.39.39.9.59 1.41.59.51 0 1.02-.2 1.41-.59l7.78-7.78 2.81-2.81c.8-.78.8-2.07 0-2.86zM5.41 20L4 18.59l7.72-7.72 1.47 1.35L5.41 20z\"/>\n",
              "  </svg>\n",
              "      </button>\n",
              "      \n",
              "  <style>\n",
              "    .colab-df-container {\n",
              "      display:flex;\n",
              "      flex-wrap:wrap;\n",
              "      gap: 12px;\n",
              "    }\n",
              "\n",
              "    .colab-df-convert {\n",
              "      background-color: #E8F0FE;\n",
              "      border: none;\n",
              "      border-radius: 50%;\n",
              "      cursor: pointer;\n",
              "      display: none;\n",
              "      fill: #1967D2;\n",
              "      height: 32px;\n",
              "      padding: 0 0 0 0;\n",
              "      width: 32px;\n",
              "    }\n",
              "\n",
              "    .colab-df-convert:hover {\n",
              "      background-color: #E2EBFA;\n",
              "      box-shadow: 0px 1px 2px rgba(60, 64, 67, 0.3), 0px 1px 3px 1px rgba(60, 64, 67, 0.15);\n",
              "      fill: #174EA6;\n",
              "    }\n",
              "\n",
              "    [theme=dark] .colab-df-convert {\n",
              "      background-color: #3B4455;\n",
              "      fill: #D2E3FC;\n",
              "    }\n",
              "\n",
              "    [theme=dark] .colab-df-convert:hover {\n",
              "      background-color: #434B5C;\n",
              "      box-shadow: 0px 1px 3px 1px rgba(0, 0, 0, 0.15);\n",
              "      filter: drop-shadow(0px 1px 2px rgba(0, 0, 0, 0.3));\n",
              "      fill: #FFFFFF;\n",
              "    }\n",
              "  </style>\n",
              "\n",
              "      <script>\n",
              "        const buttonEl =\n",
              "          document.querySelector('#df-cfb61c33-9f4d-458c-9bba-537c2772ff52 button.colab-df-convert');\n",
              "        buttonEl.style.display =\n",
              "          google.colab.kernel.accessAllowed ? 'block' : 'none';\n",
              "\n",
              "        async function convertToInteractive(key) {\n",
              "          const element = document.querySelector('#df-cfb61c33-9f4d-458c-9bba-537c2772ff52');\n",
              "          const dataTable =\n",
              "            await google.colab.kernel.invokeFunction('convertToInteractive',\n",
              "                                                     [key], {});\n",
              "          if (!dataTable) return;\n",
              "\n",
              "          const docLinkHtml = 'Like what you see? Visit the ' +\n",
              "            '<a target=\"_blank\" href=https://colab.research.google.com/notebooks/data_table.ipynb>data table notebook</a>'\n",
              "            + ' to learn more about interactive tables.';\n",
              "          element.innerHTML = '';\n",
              "          dataTable['output_type'] = 'display_data';\n",
              "          await google.colab.output.renderOutput(dataTable, element);\n",
              "          const docLink = document.createElement('div');\n",
              "          docLink.innerHTML = docLinkHtml;\n",
              "          element.appendChild(docLink);\n",
              "        }\n",
              "      </script>\n",
              "    </div>\n",
              "  </div>\n",
              "  "
            ]
          },
          "metadata": {},
          "execution_count": 5
        }
      ],
      "source": [
        "import pandas as pd\n",
        "\n",
        "data_df = pd.DataFrame.from_dict(dataset['train'])\n",
        "data_df.head()"
      ],
      "id": "d96aa56a"
    },
    {
      "cell_type": "code",
      "execution_count": 6,
      "metadata": {
        "id": "6fc8099d",
        "colab": {
          "base_uri": "https://localhost:8080/"
        },
        "outputId": "34876649-d539-4048-aa68-b8d51cca2e79"
      },
      "outputs": [
        {
          "output_type": "execute_result",
          "data": {
            "text/plain": [
              "24970"
            ]
          },
          "metadata": {},
          "execution_count": 6
        }
      ],
      "source": [
        "bad_reviews = data_df.loc[data_df[\"star_rating\"] == 1]\n",
        "len(bad_reviews)"
      ],
      "id": "6fc8099d"
    },
    {
      "cell_type": "code",
      "execution_count": 7,
      "metadata": {
        "id": "5f39fabf",
        "colab": {
          "base_uri": "https://localhost:8080/"
        },
        "outputId": "38c613b3-fddf-4c3a-e731-8b71f29ea072"
      },
      "outputs": [
        {
          "output_type": "execute_result",
          "data": {
            "text/plain": [
              "10    As has been written by so many others, I quick...\n",
              "14                Lames purchase I almost never made...\n",
              "24                                               Gross!\n",
              "26           Not the best graphics :(<br />Dissapointed\n",
              "30                                               Stolen\n",
              "Name: review_body, dtype: object"
            ]
          },
          "metadata": {},
          "execution_count": 7
        }
      ],
      "source": [
        "bad_reviews[\"review_body\"].head()"
      ],
      "id": "5f39fabf"
    },
    {
      "cell_type": "code",
      "execution_count": 8,
      "metadata": {
        "id": "FILluNOqEwoq",
        "colab": {
          "base_uri": "https://localhost:8080/"
        },
        "outputId": "5732605b-0c8b-465a-8755-53765479ee0a"
      },
      "outputs": [
        {
          "output_type": "stream",
          "name": "stderr",
          "text": [
            "<ipython-input-8-90594dcaec4e>:1: SettingWithCopyWarning: \n",
            "A value is trying to be set on a copy of a slice from a DataFrame.\n",
            "Try using .loc[row_indexer,col_indexer] = value instead\n",
            "\n",
            "See the caveats in the documentation: https://pandas.pydata.org/pandas-docs/stable/user_guide/indexing.html#returning-a-view-versus-a-copy\n",
            "  bad_reviews[\"message_len\"]=[len(i) for i in bad_reviews[\"review_body\"].values] # [0 for i in range(0,24970)]\n"
          ]
        }
      ],
      "source": [
        "bad_reviews[\"message_len\"]=[len(i) for i in bad_reviews[\"review_body\"].values] # [0 for i in range(0,24970)]"
      ],
      "id": "FILluNOqEwoq"
    },
    {
      "cell_type": "code",
      "execution_count": 9,
      "metadata": {
        "id": "18el3mHKFe0K"
      },
      "outputs": [],
      "source": [
        "# dall=dall.mul(row.loc[0],axis=1)"
      ],
      "id": "18el3mHKFe0K"
    },
    {
      "cell_type": "code",
      "execution_count": 10,
      "metadata": {
        "id": "2ArJhSLHFlso"
      },
      "outputs": [],
      "source": [
        "# [len(i) for i in bad_reviews[\"review_body\"].values]"
      ],
      "id": "2ArJhSLHFlso"
    },
    {
      "cell_type": "code",
      "execution_count": 11,
      "metadata": {
        "id": "_sodZQxEF-Q6"
      },
      "outputs": [],
      "source": [
        "bad_reviews_small=bad_reviews.loc[bad_reviews[\"message_len\"]<128]"
      ],
      "id": "_sodZQxEF-Q6"
    },
    {
      "cell_type": "code",
      "execution_count": 12,
      "metadata": {
        "id": "PVwRVkbDG3er",
        "colab": {
          "base_uri": "https://localhost:8080/"
        },
        "outputId": "0f50da06-32c7-4e02-f3f7-49a141f13b3d"
      },
      "outputs": [
        {
          "output_type": "execute_result",
          "data": {
            "text/plain": [
              "(7671, 16)"
            ]
          },
          "metadata": {},
          "execution_count": 12
        }
      ],
      "source": [
        "bad_reviews_small.shape"
      ],
      "id": "PVwRVkbDG3er"
    },
    {
      "cell_type": "code",
      "execution_count": 13,
      "metadata": {
        "id": "vGgvT7LoG86J",
        "colab": {
          "base_uri": "https://localhost:8080/"
        },
        "outputId": "050f7508-6c19-4779-f936-522ab2953315"
      },
      "outputs": [
        {
          "output_type": "execute_result",
          "data": {
            "text/plain": [
              "(24970, 16)"
            ]
          },
          "metadata": {},
          "execution_count": 13
        }
      ],
      "source": [
        "bad_reviews.shape"
      ],
      "id": "vGgvT7LoG86J"
    },
    {
      "cell_type": "code",
      "execution_count": 14,
      "metadata": {
        "id": "3YOg9zjBGqO1"
      },
      "outputs": [],
      "source": [
        "# bad_reviews[\"message_len\"]"
      ],
      "id": "3YOg9zjBGqO1"
    },
    {
      "cell_type": "code",
      "execution_count": 15,
      "metadata": {
        "id": "bhFkz3zRHAwk"
      },
      "outputs": [],
      "source": [
        "# bad_reviews[\"message_len\"]"
      ],
      "id": "bhFkz3zRHAwk"
    },
    {
      "cell_type": "markdown",
      "metadata": {
        "id": "511a2a04"
      },
      "source": [
        "# Cleaning Data"
      ],
      "id": "511a2a04"
    },
    {
      "cell_type": "code",
      "execution_count": 16,
      "metadata": {
        "id": "fcb23efd",
        "scrolled": true,
        "colab": {
          "base_uri": "https://localhost:8080/"
        },
        "outputId": "9f65e84c-16ad-4b85-84fb-cfde1515b641"
      },
      "outputs": [
        {
          "output_type": "stream",
          "name": "stderr",
          "text": [
            "emoji is not installed, thus not converting emoticons or emojis into text. Install emoji: pip3 install emoji==0.6.0\n"
          ]
        }
      ],
      "source": [
        "# a little sentiment analysis\n",
        "model_name = \"finiteautomata/bertweet-base-sentiment-analysis\"\n",
        "sentiment_pipeline = pipeline(\"text-classification\", model=model_name)"
      ],
      "id": "fcb23efd"
    },
    {
      "cell_type": "code",
      "execution_count": 17,
      "metadata": {
        "id": "accac968",
        "colab": {
          "base_uri": "https://localhost:8080/"
        },
        "outputId": "c6bc2530-889d-443a-ccce-0fa8294b6e04"
      },
      "outputs": [
        {
          "output_type": "execute_result",
          "data": {
            "text/plain": [
              "{'task': 'text-classification',\n",
              " 'model': RobertaForSequenceClassification(\n",
              "   (roberta): RobertaModel(\n",
              "     (embeddings): RobertaEmbeddings(\n",
              "       (word_embeddings): Embedding(64001, 768, padding_idx=1)\n",
              "       (position_embeddings): Embedding(130, 768, padding_idx=1)\n",
              "       (token_type_embeddings): Embedding(1, 768)\n",
              "       (LayerNorm): LayerNorm((768,), eps=1e-05, elementwise_affine=True)\n",
              "       (dropout): Dropout(p=0.1, inplace=False)\n",
              "     )\n",
              "     (encoder): RobertaEncoder(\n",
              "       (layer): ModuleList(\n",
              "         (0-11): 12 x RobertaLayer(\n",
              "           (attention): RobertaAttention(\n",
              "             (self): RobertaSelfAttention(\n",
              "               (query): Linear(in_features=768, out_features=768, bias=True)\n",
              "               (key): Linear(in_features=768, out_features=768, bias=True)\n",
              "               (value): Linear(in_features=768, out_features=768, bias=True)\n",
              "               (dropout): Dropout(p=0.1, inplace=False)\n",
              "             )\n",
              "             (output): RobertaSelfOutput(\n",
              "               (dense): Linear(in_features=768, out_features=768, bias=True)\n",
              "               (LayerNorm): LayerNorm((768,), eps=1e-05, elementwise_affine=True)\n",
              "               (dropout): Dropout(p=0.1, inplace=False)\n",
              "             )\n",
              "           )\n",
              "           (intermediate): RobertaIntermediate(\n",
              "             (dense): Linear(in_features=768, out_features=3072, bias=True)\n",
              "             (intermediate_act_fn): GELUActivation()\n",
              "           )\n",
              "           (output): RobertaOutput(\n",
              "             (dense): Linear(in_features=3072, out_features=768, bias=True)\n",
              "             (LayerNorm): LayerNorm((768,), eps=1e-05, elementwise_affine=True)\n",
              "             (dropout): Dropout(p=0.1, inplace=False)\n",
              "           )\n",
              "         )\n",
              "       )\n",
              "     )\n",
              "   )\n",
              "   (classifier): RobertaClassificationHead(\n",
              "     (dense): Linear(in_features=768, out_features=768, bias=True)\n",
              "     (dropout): Dropout(p=0.1, inplace=False)\n",
              "     (out_proj): Linear(in_features=768, out_features=3, bias=True)\n",
              "   )\n",
              " ),\n",
              " 'tokenizer': BertweetTokenizer(name_or_path='finiteautomata/bertweet-base-sentiment-analysis', vocab_size=64000, model_max_length=128, is_fast=False, padding_side='right', truncation_side='right', special_tokens={'bos_token': '<s>', 'eos_token': '</s>', 'unk_token': '<unk>', 'sep_token': '</s>', 'pad_token': '<pad>', 'cls_token': '<s>', 'mask_token': '<mask>'}, clean_up_tokenization_spaces=True),\n",
              " 'feature_extractor': None,\n",
              " 'image_processor': None,\n",
              " 'modelcard': None,\n",
              " 'framework': 'pt',\n",
              " 'device': device(type='cpu'),\n",
              " 'torch_dtype': None,\n",
              " 'binary_output': False,\n",
              " 'call_count': 0,\n",
              " '_batch_size': None,\n",
              " '_num_workers': None,\n",
              " '_preprocess_params': {},\n",
              " '_forward_params': {},\n",
              " '_postprocess_params': {}}"
            ]
          },
          "metadata": {},
          "execution_count": 17
        }
      ],
      "source": [
        "sentiment_pipeline.__dict__"
      ],
      "id": "accac968"
    },
    {
      "cell_type": "code",
      "execution_count": 18,
      "metadata": {
        "id": "bae1fda5",
        "colab": {
          "base_uri": "https://localhost:8080/"
        },
        "outputId": "72ec8f78-91f8-4433-9e49-46414cd266c7"
      },
      "outputs": [
        {
          "output_type": "execute_result",
          "data": {
            "text/plain": [
              "[{'label': 'NEG', 'score': 0.9216219782829285}]"
            ]
          },
          "metadata": {},
          "execution_count": 18
        }
      ],
      "source": [
        "review = bad_reviews_small[\"review_body\"].values[0]\n",
        "sentiment_pipeline(review)"
      ],
      "id": "bae1fda5"
    },
    {
      "cell_type": "code",
      "execution_count": 19,
      "metadata": {
        "id": "12759d93"
      },
      "outputs": [],
      "source": [
        "cleaner_data = None\n",
        "\n",
        "for index, bad_review in bad_reviews_small.iterrows():\n",
        "    sentiment = sentiment_pipeline(bad_review[\"review_body\"])[0]\n",
        "    if (sentiment[\"label\"] == \"POSITIVE\"):\n",
        "        cleaner_data = bad_reviews.drop(index=index, axis = 0)\n",
        "    elif sentiment[\"score\"] < 0.8:\n",
        "        cleaner_data = bad_reviews.drop(index=index, axis = 0)\n"
      ],
      "id": "12759d93"
    },
    {
      "cell_type": "code",
      "execution_count": 20,
      "metadata": {
        "colab": {
          "base_uri": "https://localhost:8080/"
        },
        "id": "ae305d0c",
        "outputId": "c1ed0817-5b32-4d2c-cb4a-1d69b3576ee3"
      },
      "outputs": [
        {
          "output_type": "execute_result",
          "data": {
            "text/plain": [
              "24969"
            ]
          },
          "metadata": {},
          "execution_count": 20
        }
      ],
      "source": [
        "len(cleaner_data )"
      ],
      "id": "ae305d0c"
    },
    {
      "cell_type": "code",
      "execution_count": 21,
      "metadata": {
        "id": "82737349"
      },
      "outputs": [],
      "source": [
        "cleaner_data.to_csv(\"cleaner_data.csv\")"
      ],
      "id": "82737349"
    },
    {
      "cell_type": "markdown",
      "metadata": {
        "id": "fa4e28aa"
      },
      "source": [
        "# Retraining on top of transformers"
      ],
      "id": "fa4e28aa"
    },
    {
      "cell_type": "code",
      "execution_count": 22,
      "metadata": {
        "id": "gAiaDSB669CH",
        "colab": {
          "base_uri": "https://localhost:8080/"
        },
        "outputId": "e4a9a6f7-ff7d-4da8-a7cb-a8e9175696e7"
      },
      "outputs": [
        {
          "output_type": "stream",
          "name": "stdout",
          "text": [
            "Mounted at /gdrive\n",
            "/gdrive\n"
          ]
        }
      ],
      "source": [
        "from google.colab import drive\n",
        "drive.mount('/gdrive')\n",
        "%cd /gdrive"
      ],
      "id": "gAiaDSB669CH"
    },
    {
      "cell_type": "code",
      "execution_count": 23,
      "metadata": {
        "id": "_HlHXNbJ7PYG"
      },
      "outputs": [],
      "source": [
        "import pandas as pd\n",
        "cleaned_data = pd.read_csv(\"/content/cleaner_data.csv\")"
      ],
      "id": "_HlHXNbJ7PYG"
    },
    {
      "cell_type": "code",
      "execution_count": 24,
      "metadata": {
        "id": "NjZkRYaycyAf",
        "colab": {
          "base_uri": "https://localhost:8080/"
        },
        "outputId": "dc67751b-e991-4473-9de1-0278dc0b9443"
      },
      "outputs": [
        {
          "output_type": "stream",
          "name": "stdout",
          "text": [
            "Mounted at /content/drive\n"
          ]
        }
      ],
      "source": [
        "from google.colab import drive\n",
        "drive.mount('/content/drive')"
      ],
      "id": "NjZkRYaycyAf"
    },
    {
      "cell_type": "code",
      "execution_count": 25,
      "metadata": {
        "id": "f133eaaf"
      },
      "outputs": [],
      "source": [
        "from transformers import AutoModelForCausalLM, AutoTokenizer\n",
        "\n",
        "tokenizer = AutoTokenizer.from_pretrained(\"gpt2\")\n",
        "tokenizer.add_special_tokens({'pad_token': '[PAD]'})\n",
        "\n",
        "model = AutoModelForCausalLM.from_pretrained(\"gpt2\")"
      ],
      "id": "f133eaaf"
    },
    {
      "cell_type": "code",
      "execution_count": 26,
      "metadata": {
        "id": "43b5bd4d"
      },
      "outputs": [],
      "source": [
        "from sklearn.model_selection import train_test_split\n",
        "\n",
        "train, test = train_test_split(cleaned_data.review_body, test_size = 0.15)\n",
        "train.to_csv(\"/content/train.csv\")\n",
        "test.to_csv(\"/content/test.csv\")"
      ],
      "id": "43b5bd4d"
    },
    {
      "cell_type": "code",
      "execution_count": 27,
      "metadata": {
        "id": "4cfab848",
        "colab": {
          "base_uri": "https://localhost:8080/"
        },
        "outputId": "d52ea2e5-a157-4f1e-eec1-5e883acf1b57"
      },
      "outputs": [
        {
          "output_type": "execute_result",
          "data": {
            "text/plain": [
              "3091             It wouldn't down load so never played it.\n",
              "8916     The game provides you with really poor graphic...\n",
              "10077    It's fun, bad voice acting, but if you just wa...\n",
              "24273    I'm not rating the game but more of my experie...\n",
              "15905    Would love the game if I ever got to play it, ...\n",
              "Name: review_body, dtype: object"
            ]
          },
          "metadata": {},
          "execution_count": 27
        }
      ],
      "source": [
        "train.head()"
      ],
      "id": "4cfab848"
    },
    {
      "cell_type": "code",
      "execution_count": 28,
      "metadata": {
        "id": "ed8b8786"
      },
      "outputs": [],
      "source": [
        "from transformers import DataCollatorForLanguageModeling\n",
        "\n",
        "data_collator = DataCollatorForLanguageModeling(\n",
        "        tokenizer=tokenizer, mlm=False,\n",
        "    )"
      ],
      "id": "ed8b8786"
    },
    {
      "cell_type": "code",
      "execution_count": 29,
      "metadata": {
        "id": "328d3cc0",
        "colab": {
          "base_uri": "https://localhost:8080/"
        },
        "outputId": "b3e66e35-1883-4578-e5b0-cec1ef46cc23"
      },
      "outputs": [
        {
          "output_type": "stream",
          "name": "stderr",
          "text": [
            "/usr/local/lib/python3.10/dist-packages/transformers/data/datasets/language_modeling.py:53: FutureWarning: This dataset will be removed from the library soon, preprocessing should be handled with the 🤗 Datasets library. You can have a look at this example script for pointers: https://github.com/huggingface/transformers/blob/main/examples/pytorch/language-modeling/run_mlm.py\n",
            "  warnings.warn(\n"
          ]
        }
      ],
      "source": [
        "from transformers import TextDataset,DataCollatorForLanguageModeling\n",
        "\n",
        "def load_dataset(train_path,test_path,tokenizer):\n",
        "    train_dataset = TextDataset(\n",
        "          tokenizer=tokenizer,\n",
        "          file_path=train_path,\n",
        "          block_size=128)\n",
        "\n",
        "    test_dataset = TextDataset(\n",
        "          tokenizer=tokenizer,\n",
        "          file_path=test_path,\n",
        "          block_size=128)\n",
        "\n",
        "    data_collator = DataCollatorForLanguageModeling(\n",
        "        tokenizer=tokenizer, mlm=False,\n",
        "    )\n",
        "    return train_dataset,test_dataset,data_collator\n",
        "\n",
        "train_dataset,test_dataset,data_collator = load_dataset(\"/content/train.csv\",'/content/test.csv',tokenizer)"
      ],
      "id": "328d3cc0"
    },
    {
      "cell_type": "code",
      "execution_count": 30,
      "metadata": {
        "id": "840baf54",
        "colab": {
          "base_uri": "https://localhost:8080/",
          "height": 227
        },
        "outputId": "f85a535b-41ff-440a-886c-b7bcb9ddc644"
      },
      "outputs": [
        {
          "output_type": "stream",
          "name": "stderr",
          "text": [
            "/usr/local/lib/python3.10/dist-packages/transformers/optimization.py:411: FutureWarning: This implementation of AdamW is deprecated and will be removed in a future version. Use the PyTorch implementation torch.optim.AdamW instead, or set `no_deprecation_warning=True` to disable this warning\n",
            "  warnings.warn(\n"
          ]
        },
        {
          "output_type": "display_data",
          "data": {
            "text/plain": [
              "<IPython.core.display.HTML object>"
            ],
            "text/html": [
              "\n",
              "    <div>\n",
              "      \n",
              "      <progress value='1392' max='1392' style='width:300px; height:20px; vertical-align: middle;'></progress>\n",
              "      [1392/1392 24:47, Epoch 3/3]\n",
              "    </div>\n",
              "    <table border=\"1\" class=\"dataframe\">\n",
              "  <thead>\n",
              " <tr style=\"text-align: left;\">\n",
              "      <th>Step</th>\n",
              "      <th>Training Loss</th>\n",
              "    </tr>\n",
              "  </thead>\n",
              "  <tbody>\n",
              "    <tr>\n",
              "      <td>500</td>\n",
              "      <td>3.694300</td>\n",
              "    </tr>\n",
              "    <tr>\n",
              "      <td>1000</td>\n",
              "      <td>3.413600</td>\n",
              "    </tr>\n",
              "  </tbody>\n",
              "</table><p>"
            ]
          },
          "metadata": {}
        },
        {
          "output_type": "execute_result",
          "data": {
            "text/plain": [
              "TrainOutput(global_step=1392, training_loss=3.4908898013761673, metrics={'train_runtime': 1491.265, 'train_samples_per_second': 29.854, 'train_steps_per_second': 0.933, 'total_flos': 2908180316160000.0, 'train_loss': 3.4908898013761673, 'epoch': 3.0})"
            ]
          },
          "metadata": {},
          "execution_count": 30
        }
      ],
      "source": [
        "# ImportError: Using the Trainer with PyTorch requires accelerate>=0.20.1:\n",
        "# Please run pip install transformers[torch] or pip install accelerate -U #24147\n",
        "# https://github.com/huggingface/transformers/issues/24147\n",
        "#\n",
        "# You need to restart your colab environment after updating the library.\n",
        "#\n",
        "from transformers import Trainer, TrainingArguments\n",
        "import torch\n",
        "\n",
        "\n",
        "\n",
        "training_args = TrainingArguments(\n",
        "    output_dir=\"/content/logs\", #The output directory\n",
        "    overwrite_output_dir=True, #overwrite the content of the output directory\n",
        "    num_train_epochs=3, # number of training epochs\n",
        "    per_device_train_batch_size=32, # batch size for training\n",
        "    per_device_eval_batch_size=64,  # batch size for evaluation\n",
        "    eval_steps = 400, # Number of update steps between two evaluations.\n",
        "    save_steps=800, # after # steps model is saved\n",
        "    warmup_steps=500,# number of warmup steps for learning rate scheduler\n",
        "    prediction_loss_only=True,\n",
        "    )\n",
        "\n",
        "\n",
        "trainer = Trainer(\n",
        "    model=model,\n",
        "    args=training_args,\n",
        "    data_collator=data_collator,\n",
        "    train_dataset=train_dataset,\n",
        "    eval_dataset=test_dataset,\n",
        ")\n",
        "\n",
        "trainer.train()"
      ],
      "id": "840baf54"
    },
    {
      "cell_type": "code",
      "execution_count": 31,
      "metadata": {
        "id": "Ftn-VZYz8Sbd",
        "colab": {
          "base_uri": "https://localhost:8080/"
        },
        "outputId": "4b5a06e2-75bd-4734-e3ed-a5d34a99a491"
      },
      "outputs": [
        {
          "output_type": "stream",
          "name": "stdout",
          "text": [
            "Looking in indexes: https://pypi.org/simple, https://us-python.pkg.dev/colab-wheels/public/simple/\n",
            "Requirement already satisfied: transformers[torch] in /usr/local/lib/python3.10/dist-packages (4.30.2)\n",
            "Requirement already satisfied: filelock in /usr/local/lib/python3.10/dist-packages (from transformers[torch]) (3.12.0)\n",
            "Requirement already satisfied: huggingface-hub<1.0,>=0.14.1 in /usr/local/lib/python3.10/dist-packages (from transformers[torch]) (0.15.1)\n",
            "Requirement already satisfied: numpy>=1.17 in /usr/local/lib/python3.10/dist-packages (from transformers[torch]) (1.22.4)\n",
            "Requirement already satisfied: packaging>=20.0 in /usr/local/lib/python3.10/dist-packages (from transformers[torch]) (23.1)\n",
            "Requirement already satisfied: pyyaml>=5.1 in /usr/local/lib/python3.10/dist-packages (from transformers[torch]) (6.0)\n",
            "Requirement already satisfied: regex!=2019.12.17 in /usr/local/lib/python3.10/dist-packages (from transformers[torch]) (2022.10.31)\n",
            "Requirement already satisfied: requests in /usr/local/lib/python3.10/dist-packages (from transformers[torch]) (2.27.1)\n",
            "Requirement already satisfied: tokenizers!=0.11.3,<0.14,>=0.11.1 in /usr/local/lib/python3.10/dist-packages (from transformers[torch]) (0.13.3)\n",
            "Requirement already satisfied: safetensors>=0.3.1 in /usr/local/lib/python3.10/dist-packages (from transformers[torch]) (0.3.1)\n",
            "Requirement already satisfied: tqdm>=4.27 in /usr/local/lib/python3.10/dist-packages (from transformers[torch]) (4.65.0)\n",
            "Requirement already satisfied: torch!=1.12.0,>=1.9 in /usr/local/lib/python3.10/dist-packages (from transformers[torch]) (2.0.1+cu118)\n",
            "Requirement already satisfied: accelerate>=0.20.2 in /usr/local/lib/python3.10/dist-packages (from transformers[torch]) (0.20.3)\n",
            "Requirement already satisfied: psutil in /usr/local/lib/python3.10/dist-packages (from accelerate>=0.20.2->transformers[torch]) (5.9.5)\n",
            "Requirement already satisfied: fsspec in /usr/local/lib/python3.10/dist-packages (from huggingface-hub<1.0,>=0.14.1->transformers[torch]) (2023.4.0)\n",
            "Requirement already satisfied: typing-extensions>=3.7.4.3 in /usr/local/lib/python3.10/dist-packages (from huggingface-hub<1.0,>=0.14.1->transformers[torch]) (4.5.0)\n",
            "Requirement already satisfied: sympy in /usr/local/lib/python3.10/dist-packages (from torch!=1.12.0,>=1.9->transformers[torch]) (1.11.1)\n",
            "Requirement already satisfied: networkx in /usr/local/lib/python3.10/dist-packages (from torch!=1.12.0,>=1.9->transformers[torch]) (3.1)\n",
            "Requirement already satisfied: jinja2 in /usr/local/lib/python3.10/dist-packages (from torch!=1.12.0,>=1.9->transformers[torch]) (3.1.2)\n",
            "Requirement already satisfied: triton==2.0.0 in /usr/local/lib/python3.10/dist-packages (from torch!=1.12.0,>=1.9->transformers[torch]) (2.0.0)\n",
            "Requirement already satisfied: cmake in /usr/local/lib/python3.10/dist-packages (from triton==2.0.0->torch!=1.12.0,>=1.9->transformers[torch]) (3.25.2)\n",
            "Requirement already satisfied: lit in /usr/local/lib/python3.10/dist-packages (from triton==2.0.0->torch!=1.12.0,>=1.9->transformers[torch]) (16.0.5)\n",
            "Requirement already satisfied: urllib3<1.27,>=1.21.1 in /usr/local/lib/python3.10/dist-packages (from requests->transformers[torch]) (1.26.15)\n",
            "Requirement already satisfied: certifi>=2017.4.17 in /usr/local/lib/python3.10/dist-packages (from requests->transformers[torch]) (2022.12.7)\n",
            "Requirement already satisfied: charset-normalizer~=2.0.0 in /usr/local/lib/python3.10/dist-packages (from requests->transformers[torch]) (2.0.12)\n",
            "Requirement already satisfied: idna<4,>=2.5 in /usr/local/lib/python3.10/dist-packages (from requests->transformers[torch]) (3.4)\n",
            "Requirement already satisfied: MarkupSafe>=2.0 in /usr/local/lib/python3.10/dist-packages (from jinja2->torch!=1.12.0,>=1.9->transformers[torch]) (2.1.2)\n",
            "Requirement already satisfied: mpmath>=0.19 in /usr/local/lib/python3.10/dist-packages (from sympy->torch!=1.12.0,>=1.9->transformers[torch]) (1.3.0)\n",
            "Looking in indexes: https://pypi.org/simple, https://us-python.pkg.dev/colab-wheels/public/simple/\n",
            "Requirement already satisfied: accelerate in /usr/local/lib/python3.10/dist-packages (0.20.3)\n",
            "Requirement already satisfied: numpy>=1.17 in /usr/local/lib/python3.10/dist-packages (from accelerate) (1.22.4)\n",
            "Requirement already satisfied: packaging>=20.0 in /usr/local/lib/python3.10/dist-packages (from accelerate) (23.1)\n",
            "Requirement already satisfied: psutil in /usr/local/lib/python3.10/dist-packages (from accelerate) (5.9.5)\n",
            "Requirement already satisfied: pyyaml in /usr/local/lib/python3.10/dist-packages (from accelerate) (6.0)\n",
            "Requirement already satisfied: torch>=1.6.0 in /usr/local/lib/python3.10/dist-packages (from accelerate) (2.0.1+cu118)\n",
            "Requirement already satisfied: filelock in /usr/local/lib/python3.10/dist-packages (from torch>=1.6.0->accelerate) (3.12.0)\n",
            "Requirement already satisfied: typing-extensions in /usr/local/lib/python3.10/dist-packages (from torch>=1.6.0->accelerate) (4.5.0)\n",
            "Requirement already satisfied: sympy in /usr/local/lib/python3.10/dist-packages (from torch>=1.6.0->accelerate) (1.11.1)\n",
            "Requirement already satisfied: networkx in /usr/local/lib/python3.10/dist-packages (from torch>=1.6.0->accelerate) (3.1)\n",
            "Requirement already satisfied: jinja2 in /usr/local/lib/python3.10/dist-packages (from torch>=1.6.0->accelerate) (3.1.2)\n",
            "Requirement already satisfied: triton==2.0.0 in /usr/local/lib/python3.10/dist-packages (from torch>=1.6.0->accelerate) (2.0.0)\n",
            "Requirement already satisfied: cmake in /usr/local/lib/python3.10/dist-packages (from triton==2.0.0->torch>=1.6.0->accelerate) (3.25.2)\n",
            "Requirement already satisfied: lit in /usr/local/lib/python3.10/dist-packages (from triton==2.0.0->torch>=1.6.0->accelerate) (16.0.5)\n",
            "Requirement already satisfied: MarkupSafe>=2.0 in /usr/local/lib/python3.10/dist-packages (from jinja2->torch>=1.6.0->accelerate) (2.1.2)\n",
            "Requirement already satisfied: mpmath>=0.19 in /usr/local/lib/python3.10/dist-packages (from sympy->torch>=1.6.0->accelerate) (1.3.0)\n"
          ]
        }
      ],
      "source": [
        "!pip install transformers[torch]\n",
        "!pip install accelerate -U"
      ],
      "id": "Ftn-VZYz8Sbd"
    },
    {
      "cell_type": "code",
      "execution_count": 34,
      "metadata": {
        "id": "2175d14e"
      },
      "outputs": [],
      "source": [
        "trainer.save_model(\"/content/trained_model.pt\")"
      ],
      "id": "2175d14e"
    },
    {
      "cell_type": "markdown",
      "metadata": {
        "id": "XIfx8iv1Dkz4"
      },
      "source": [
        "# Playing with Model"
      ],
      "id": "XIfx8iv1Dkz4"
    },
    {
      "cell_type": "code",
      "execution_count": 35,
      "metadata": {
        "id": "C0PFP6T_Dsn0"
      },
      "outputs": [],
      "source": [
        "from transformers import AutoModelForCausalLM, AutoTokenizer"
      ],
      "id": "C0PFP6T_Dsn0"
    },
    {
      "cell_type": "code",
      "execution_count": 36,
      "metadata": {
        "id": "fEJJQBrza-tq",
        "colab": {
          "base_uri": "https://localhost:8080/"
        },
        "outputId": "b205fed1-013b-4162-b13a-8388fea87a57"
      },
      "outputs": [
        {
          "output_type": "execute_result",
          "data": {
            "text/plain": [
              "1"
            ]
          },
          "metadata": {},
          "execution_count": 36
        }
      ],
      "source": [
        "tokenizer = AutoTokenizer.from_pretrained(\"gpt2\")\n",
        "tokenizer.add_special_tokens({'pad_token': '[PAD]'})"
      ],
      "id": "fEJJQBrza-tq"
    },
    {
      "cell_type": "code",
      "execution_count": 39,
      "metadata": {
        "id": "ldnv5wr1cGGC"
      },
      "outputs": [],
      "source": [
        "model = AutoModelForCausalLM.from_pretrained(\"/content/trained_model.pt\")"
      ],
      "id": "ldnv5wr1cGGC"
    },
    {
      "cell_type": "code",
      "execution_count": 40,
      "metadata": {
        "id": "RC5T17aWdJ36"
      },
      "outputs": [],
      "source": [
        "from transformers import pipeline\n",
        "\n",
        "generator = pipeline('text-generation', model = model, tokenizer = tokenizer)"
      ],
      "id": "RC5T17aWdJ36"
    },
    {
      "cell_type": "code",
      "execution_count": 41,
      "metadata": {
        "id": "NG2tMqfYdb0g",
        "colab": {
          "base_uri": "https://localhost:8080/"
        },
        "outputId": "0c57ffe6-9806-432d-c0cc-a0ff69d52d2a"
      },
      "outputs": [
        {
          "output_type": "stream",
          "name": "stderr",
          "text": [
            "Setting `pad_token_id` to `eos_token_id`:50256 for open-end generation.\n"
          ]
        },
        {
          "output_type": "execute_result",
          "data": {
            "text/plain": [
              "[{'generated_text': 'I HATE MY JOB!!!!!!!!!!! I mean, I\\'ve played some of the other SimCity games I\\'ve been able to get a grip on, but not this one! This is absolutely ridiculous and totally unacceptable. I won\\'t even give this game a chance to go on sale until we see the game is actually worth $60!!\"\\n22606,\"I had been playing the Sims 3, so I thought it would be fun trying out a new game. Unfortunately, I was wrong. As a result of Origin\\'s DRM, I cannot play the Sims 3 games on my PC. Also, after taking some time to find this out, I can not play the game on my laptop. And while buying the downloadable content for my daughter, her'},\n",
              " {'generated_text': 'I HATE MY JOB ONCE AND THIS IS MUTANTLY SICK.  I LOVE GAMEPLAY and I DON\\'T KNOW ANYONE else who could play this version.  I would highly recommend NOT buying it.\"\\n22891,This game had some issues with me and the program only worked on Windows 7. Don\\'t worry though as I have never been able to get this program to work on Win7.\\n15203,\"My son and I were really looking forward to this game and I could not have been more wrong. He was hooked...no wonder it took so long to pre-order his copy. This is ridiculous...I didn\\'t expect this game! It is not even close. I was disappointed.\"'},\n",
              " {'generated_text': 'I HATE MY JOB AS MUCH AS I SHOULD!  I am so disappointed with my purchases.  They were so much fun and I could actually play the game.  They are just not as fun.  I wouldn\\'t recommend boasts.\\n17754,\"Don\\'t purchase this download, it will not accept any new software on your computer. Don\\'t waste your money. Please do not buy, this download may get deleted from your computer. DO NOT BUY!\"\\n13495,I haven\\'t been able to get my money back\\n12949,Code code didn\\'t work.  I didn\\'t really want to pay the full price I paid for this code which I had to pay for.\\n3567,\"this was a'}]"
            ]
          },
          "metadata": {},
          "execution_count": 41
        }
      ],
      "source": [
        "generator(\"I HATE MY JOB\", max_length = 150, num_return_sequences=3)"
      ],
      "id": "NG2tMqfYdb0g"
    },
    {
      "cell_type": "code",
      "execution_count": 42,
      "metadata": {
        "id": "PC-IQssZdp64",
        "colab": {
          "base_uri": "https://localhost:8080/"
        },
        "outputId": "a82502bb-9dce-4308-974b-63e32a8f0495"
      },
      "outputs": [
        {
          "output_type": "stream",
          "name": "stderr",
          "text": [
            "Setting `pad_token_id` to `eos_token_id`:50256 for open-end generation.\n"
          ]
        },
        {
          "output_type": "execute_result",
          "data": {
            "text/plain": [
              "[{'generated_text': \"Nobody understands me, my city is too big.  I am not prepared to let this happen to me. I have Tiguri noctus, but this has the same problem.<br /><br />As a city I must pay extra taxes that will have an effect on how they work in my world. They are an excuse to cut tax revenues even more to try to expand their borders. That is why my city is in a foreign land and I cannot return it because I will be on my own in an international land that borders on a non-free world.  Now this is the biggest problem!<br /><br />Let me tell you that I am the only one who doesn't have a valid reason why that no\"},\n",
              " {'generated_text': 'Nobody understands me, that I am not a gamer.  I mean, just kidding.  I am a real gamer.  I\\'ve played more than 25 game servers in the past 3 years, yet have logged the full number of servers with a total of 4 gigabytes of bandwidth.<br /><br />I\\'ve played more than 4000 game servers, and each time a \\\\\\\\\"\"game is connected\\\\\\\\\"\" does not play the first time.<br /><br />I\\'ve bought 3 different games as a gift.  I downloaded both gamesmented each of them and they did not work together, with the exception of a couple of different people that was trying to connect and then some, the problem was they all always didn\\'t work.<'},\n",
              " {'generated_text': 'Nobody understands me. I am completely embarrassed to tell you this!\"\\n14300,\"I can\\'t tell the difference between Battlefield 4 and this one: Battlefield 4 is a game played by the army. Then, there are the maps which the armies have totask around, which are often not actually that detailed. But when you go to the battlefield, there are tons of great tactical choices, and no real story line. I would suggest avoiding the battlefield unless you hate the game (I don\\'t). You can\\'t change everything if you want to, and that is unacceptable on a multiplayer battlefield such as this.<br /><br />I have the game and it runs great, but I don\\'t find it to be enjoyable. I\\'ve seen a'}]"
            ]
          },
          "metadata": {},
          "execution_count": 42
        }
      ],
      "source": [
        "generator(\"Nobody understands me\", max_length = 150, num_return_sequences=3)"
      ],
      "id": "PC-IQssZdp64"
    },
    {
      "cell_type": "markdown",
      "metadata": {
        "id": "86n82esVeWZy"
      },
      "source": [
        "# Comparison with untuned GPT-2"
      ],
      "id": "86n82esVeWZy"
    },
    {
      "cell_type": "code",
      "execution_count": 43,
      "metadata": {
        "id": "hJ-BdUzhd-QA"
      },
      "outputs": [],
      "source": [
        "generator_original = pipeline('text-generation', model = 'gpt2')\n"
      ],
      "id": "hJ-BdUzhd-QA"
    },
    {
      "cell_type": "code",
      "execution_count": 44,
      "metadata": {
        "id": "WdPKVd-NeeZ8",
        "colab": {
          "base_uri": "https://localhost:8080/"
        },
        "outputId": "58fe24c5-cf08-4efc-cf4c-5a55230c260a"
      },
      "outputs": [
        {
          "output_type": "stream",
          "name": "stderr",
          "text": [
            "Setting `pad_token_id` to `eos_token_id`:50256 for open-end generation.\n"
          ]
        },
        {
          "output_type": "execute_result",
          "data": {
            "text/plain": [
              "[{'generated_text': 'I hate my job, and I want to do this but we will do it together. Because we are so great. We just need to show love to each other. Thank you.\\n\\nI feel my whole body is moving. I feel very'},\n",
              " {'generated_text': 'I hate my job, they\\'re afraid.\"\\n\\n\"When were you going? What time were you going?\" Cervantes asked the blonde, who looked so young in her now-shorted hair.\\n\\n\"Oh,\" the blonde replied'},\n",
              " {'generated_text': \"I hate my job, and I'd rather be in this place where you are not treated with contempt. When I have time to look this over I'll admit that after spending an genitals-pupil, a lifetime of training exercises by the hand\"}]"
            ]
          },
          "metadata": {},
          "execution_count": 44
        }
      ],
      "source": [
        "generator_original(\"I hate my job\", max_length = 50, num_return_sequences=3)"
      ],
      "id": "WdPKVd-NeeZ8"
    },
    {
      "cell_type": "code",
      "execution_count": 45,
      "metadata": {
        "id": "Ycz9YhStfn3K",
        "colab": {
          "base_uri": "https://localhost:8080/"
        },
        "outputId": "b77271b5-5100-4646-d750-ceeaca009223"
      },
      "outputs": [
        {
          "output_type": "stream",
          "name": "stderr",
          "text": [
            "Setting `pad_token_id` to `eos_token_id`:50256 for open-end generation.\n"
          ]
        },
        {
          "output_type": "execute_result",
          "data": {
            "text/plain": [
              "[{'generated_text': \"I hate my job, I wasted $60 on it.  That's not even the worst part - I want the game to work to the fullest before I can even play.  Not as I want to wait for the game to get out some\"},\n",
              " {'generated_text': 'I hate my job so I\\'m not here to support others.\"\\n10246,The game isn\\'t very good at all and it doesn\\'t really run well on older machines. I wish they would give me a refund on the code used for my'},\n",
              " {'generated_text': 'I hate my job, and I really hate this game. Please do not buy THIS and NOT EA.\"\\n8086,\"This game is not compatible with mac OS X 10.10 and OSX 10.13. If you are using Windows 7'}]"
            ]
          },
          "metadata": {},
          "execution_count": 45
        }
      ],
      "source": [
        "generator(\"I hate my job\", max_length = 50, num_return_sequences=3)"
      ],
      "id": "Ycz9YhStfn3K"
    },
    {
      "cell_type": "code",
      "execution_count": 45,
      "metadata": {
        "id": "01Z-_ou4fyda"
      },
      "outputs": [],
      "source": [],
      "id": "01Z-_ou4fyda"
    }
  ],
  "metadata": {
    "accelerator": "GPU",
    "colab": {
      "provenance": []
    },
    "kernelspec": {
      "display_name": "Python 3",
      "name": "python3"
    },
    "language_info": {
      "codemirror_mode": {
        "name": "ipython",
        "version": 3
      },
      "file_extension": ".py",
      "mimetype": "text/x-python",
      "name": "python",
      "nbconvert_exporter": "python",
      "pygments_lexer": "ipython3",
      "version": "3.9.6"
    },
    "widgets": {
      "application/vnd.jupyter.widget-state+json": {
        "ae8b14830b7c4f808be4e90581ce69a6": {
          "model_module": "@jupyter-widgets/controls",
          "model_name": "HBoxModel",
          "model_module_version": "1.5.0",
          "state": {
            "_dom_classes": [],
            "_model_module": "@jupyter-widgets/controls",
            "_model_module_version": "1.5.0",
            "_model_name": "HBoxModel",
            "_view_count": null,
            "_view_module": "@jupyter-widgets/controls",
            "_view_module_version": "1.5.0",
            "_view_name": "HBoxView",
            "box_style": "",
            "children": [
              "IPY_MODEL_6511f0e79aa74f0690784ff78af02ed3",
              "IPY_MODEL_132ff0a6e8a4470a912c6f1aaf4d27cc",
              "IPY_MODEL_c5f2ed6405ae4a88890a1d2f99f39012"
            ],
            "layout": "IPY_MODEL_665e07f1b1ff4f7094fe1e94b2fe5df8"
          }
        },
        "6511f0e79aa74f0690784ff78af02ed3": {
          "model_module": "@jupyter-widgets/controls",
          "model_name": "HTMLModel",
          "model_module_version": "1.5.0",
          "state": {
            "_dom_classes": [],
            "_model_module": "@jupyter-widgets/controls",
            "_model_module_version": "1.5.0",
            "_model_name": "HTMLModel",
            "_view_count": null,
            "_view_module": "@jupyter-widgets/controls",
            "_view_module_version": "1.5.0",
            "_view_name": "HTMLView",
            "description": "",
            "description_tooltip": null,
            "layout": "IPY_MODEL_2e26e5c8d6f8476c8f7d4c850fe81e95",
            "placeholder": "​",
            "style": "IPY_MODEL_75fc8360424641e6bdd9fd8a671b0431",
            "value": "100%"
          }
        },
        "132ff0a6e8a4470a912c6f1aaf4d27cc": {
          "model_module": "@jupyter-widgets/controls",
          "model_name": "FloatProgressModel",
          "model_module_version": "1.5.0",
          "state": {
            "_dom_classes": [],
            "_model_module": "@jupyter-widgets/controls",
            "_model_module_version": "1.5.0",
            "_model_name": "FloatProgressModel",
            "_view_count": null,
            "_view_module": "@jupyter-widgets/controls",
            "_view_module_version": "1.5.0",
            "_view_name": "ProgressView",
            "bar_style": "success",
            "description": "",
            "description_tooltip": null,
            "layout": "IPY_MODEL_acddf8c8b66f4f1c930307048ecd823c",
            "max": 1,
            "min": 0,
            "orientation": "horizontal",
            "style": "IPY_MODEL_5ab4f1e3989c48b58795f13ca65308ef",
            "value": 1
          }
        },
        "c5f2ed6405ae4a88890a1d2f99f39012": {
          "model_module": "@jupyter-widgets/controls",
          "model_name": "HTMLModel",
          "model_module_version": "1.5.0",
          "state": {
            "_dom_classes": [],
            "_model_module": "@jupyter-widgets/controls",
            "_model_module_version": "1.5.0",
            "_model_name": "HTMLModel",
            "_view_count": null,
            "_view_module": "@jupyter-widgets/controls",
            "_view_module_version": "1.5.0",
            "_view_name": "HTMLView",
            "description": "",
            "description_tooltip": null,
            "layout": "IPY_MODEL_7d2b4a1e178c4db886d74d1f83a3181f",
            "placeholder": "​",
            "style": "IPY_MODEL_b739efdf068845038b14c089185993d1",
            "value": " 1/1 [00:00&lt;00:00, 14.77it/s]"
          }
        },
        "665e07f1b1ff4f7094fe1e94b2fe5df8": {
          "model_module": "@jupyter-widgets/base",
          "model_name": "LayoutModel",
          "model_module_version": "1.2.0",
          "state": {
            "_model_module": "@jupyter-widgets/base",
            "_model_module_version": "1.2.0",
            "_model_name": "LayoutModel",
            "_view_count": null,
            "_view_module": "@jupyter-widgets/base",
            "_view_module_version": "1.2.0",
            "_view_name": "LayoutView",
            "align_content": null,
            "align_items": null,
            "align_self": null,
            "border": null,
            "bottom": null,
            "display": null,
            "flex": null,
            "flex_flow": null,
            "grid_area": null,
            "grid_auto_columns": null,
            "grid_auto_flow": null,
            "grid_auto_rows": null,
            "grid_column": null,
            "grid_gap": null,
            "grid_row": null,
            "grid_template_areas": null,
            "grid_template_columns": null,
            "grid_template_rows": null,
            "height": null,
            "justify_content": null,
            "justify_items": null,
            "left": null,
            "margin": null,
            "max_height": null,
            "max_width": null,
            "min_height": null,
            "min_width": null,
            "object_fit": null,
            "object_position": null,
            "order": null,
            "overflow": null,
            "overflow_x": null,
            "overflow_y": null,
            "padding": null,
            "right": null,
            "top": null,
            "visibility": null,
            "width": null
          }
        },
        "2e26e5c8d6f8476c8f7d4c850fe81e95": {
          "model_module": "@jupyter-widgets/base",
          "model_name": "LayoutModel",
          "model_module_version": "1.2.0",
          "state": {
            "_model_module": "@jupyter-widgets/base",
            "_model_module_version": "1.2.0",
            "_model_name": "LayoutModel",
            "_view_count": null,
            "_view_module": "@jupyter-widgets/base",
            "_view_module_version": "1.2.0",
            "_view_name": "LayoutView",
            "align_content": null,
            "align_items": null,
            "align_self": null,
            "border": null,
            "bottom": null,
            "display": null,
            "flex": null,
            "flex_flow": null,
            "grid_area": null,
            "grid_auto_columns": null,
            "grid_auto_flow": null,
            "grid_auto_rows": null,
            "grid_column": null,
            "grid_gap": null,
            "grid_row": null,
            "grid_template_areas": null,
            "grid_template_columns": null,
            "grid_template_rows": null,
            "height": null,
            "justify_content": null,
            "justify_items": null,
            "left": null,
            "margin": null,
            "max_height": null,
            "max_width": null,
            "min_height": null,
            "min_width": null,
            "object_fit": null,
            "object_position": null,
            "order": null,
            "overflow": null,
            "overflow_x": null,
            "overflow_y": null,
            "padding": null,
            "right": null,
            "top": null,
            "visibility": null,
            "width": null
          }
        },
        "75fc8360424641e6bdd9fd8a671b0431": {
          "model_module": "@jupyter-widgets/controls",
          "model_name": "DescriptionStyleModel",
          "model_module_version": "1.5.0",
          "state": {
            "_model_module": "@jupyter-widgets/controls",
            "_model_module_version": "1.5.0",
            "_model_name": "DescriptionStyleModel",
            "_view_count": null,
            "_view_module": "@jupyter-widgets/base",
            "_view_module_version": "1.2.0",
            "_view_name": "StyleView",
            "description_width": ""
          }
        },
        "acddf8c8b66f4f1c930307048ecd823c": {
          "model_module": "@jupyter-widgets/base",
          "model_name": "LayoutModel",
          "model_module_version": "1.2.0",
          "state": {
            "_model_module": "@jupyter-widgets/base",
            "_model_module_version": "1.2.0",
            "_model_name": "LayoutModel",
            "_view_count": null,
            "_view_module": "@jupyter-widgets/base",
            "_view_module_version": "1.2.0",
            "_view_name": "LayoutView",
            "align_content": null,
            "align_items": null,
            "align_self": null,
            "border": null,
            "bottom": null,
            "display": null,
            "flex": null,
            "flex_flow": null,
            "grid_area": null,
            "grid_auto_columns": null,
            "grid_auto_flow": null,
            "grid_auto_rows": null,
            "grid_column": null,
            "grid_gap": null,
            "grid_row": null,
            "grid_template_areas": null,
            "grid_template_columns": null,
            "grid_template_rows": null,
            "height": null,
            "justify_content": null,
            "justify_items": null,
            "left": null,
            "margin": null,
            "max_height": null,
            "max_width": null,
            "min_height": null,
            "min_width": null,
            "object_fit": null,
            "object_position": null,
            "order": null,
            "overflow": null,
            "overflow_x": null,
            "overflow_y": null,
            "padding": null,
            "right": null,
            "top": null,
            "visibility": null,
            "width": null
          }
        },
        "5ab4f1e3989c48b58795f13ca65308ef": {
          "model_module": "@jupyter-widgets/controls",
          "model_name": "ProgressStyleModel",
          "model_module_version": "1.5.0",
          "state": {
            "_model_module": "@jupyter-widgets/controls",
            "_model_module_version": "1.5.0",
            "_model_name": "ProgressStyleModel",
            "_view_count": null,
            "_view_module": "@jupyter-widgets/base",
            "_view_module_version": "1.2.0",
            "_view_name": "StyleView",
            "bar_color": null,
            "description_width": ""
          }
        },
        "7d2b4a1e178c4db886d74d1f83a3181f": {
          "model_module": "@jupyter-widgets/base",
          "model_name": "LayoutModel",
          "model_module_version": "1.2.0",
          "state": {
            "_model_module": "@jupyter-widgets/base",
            "_model_module_version": "1.2.0",
            "_model_name": "LayoutModel",
            "_view_count": null,
            "_view_module": "@jupyter-widgets/base",
            "_view_module_version": "1.2.0",
            "_view_name": "LayoutView",
            "align_content": null,
            "align_items": null,
            "align_self": null,
            "border": null,
            "bottom": null,
            "display": null,
            "flex": null,
            "flex_flow": null,
            "grid_area": null,
            "grid_auto_columns": null,
            "grid_auto_flow": null,
            "grid_auto_rows": null,
            "grid_column": null,
            "grid_gap": null,
            "grid_row": null,
            "grid_template_areas": null,
            "grid_template_columns": null,
            "grid_template_rows": null,
            "height": null,
            "justify_content": null,
            "justify_items": null,
            "left": null,
            "margin": null,
            "max_height": null,
            "max_width": null,
            "min_height": null,
            "min_width": null,
            "object_fit": null,
            "object_position": null,
            "order": null,
            "overflow": null,
            "overflow_x": null,
            "overflow_y": null,
            "padding": null,
            "right": null,
            "top": null,
            "visibility": null,
            "width": null
          }
        },
        "b739efdf068845038b14c089185993d1": {
          "model_module": "@jupyter-widgets/controls",
          "model_name": "DescriptionStyleModel",
          "model_module_version": "1.5.0",
          "state": {
            "_model_module": "@jupyter-widgets/controls",
            "_model_module_version": "1.5.0",
            "_model_name": "DescriptionStyleModel",
            "_view_count": null,
            "_view_module": "@jupyter-widgets/base",
            "_view_module_version": "1.2.0",
            "_view_name": "StyleView",
            "description_width": ""
          }
        }
      }
    }
  },
  "nbformat": 4,
  "nbformat_minor": 5
}