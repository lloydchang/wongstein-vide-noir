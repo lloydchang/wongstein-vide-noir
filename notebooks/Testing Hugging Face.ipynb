{
 "cells": [
  {
   "cell_type": "code",
   "execution_count": null,
   "id": "bcd4d00e-8b9a-4b23-933d-30b64e9a453d",
   "metadata": {
    "tags": []
   },
   "outputs": [],
   "source": [
    "from transformers import pipeline\n",
    "\n"
   ]
  },
  {
   "cell_type": "code",
   "execution_count": null,
   "id": "7f0b7400",
   "metadata": {
    "tags": []
   },
   "outputs": [],
   "source": [
    "generator = pipeline('text-generation', model = 'gpt2')\n",
    "generator(\"I HATE MY JOB\", max_length = 30, num_return_sequences=3)\n",
    "## [{'generated_text': \"Hello, I'm a language modeler. So while writing this, when I went out to meet my wife or come home she told me that my\"},"
   ]
  },
  {
   "cell_type": "markdown",
   "id": "540e515e",
   "metadata": {},
   "source": [
    "## Idea 1\n",
    "Train text generator on Amazon bad reviews\n"
   ]
  },
  {
   "cell_type": "code",
   "execution_count": null,
   "id": "e42856d1",
   "metadata": {
    "tags": []
   },
   "outputs": [],
   "source": [
    "from datasets import load_dataset\n",
    "\n",
    "dataset = load_dataset(\"amazon_us_reviews\", \"Digital_Video_Games_v1_00\")"
   ]
  },
  {
   "cell_type": "code",
   "execution_count": null,
   "id": "d96aa56a",
   "metadata": {
    "tags": []
   },
   "outputs": [],
   "source": [
    "import pandas as pd\n",
    "\n",
    "data_df = pd.DataFrame.from_dict(dataset['train'])\n",
    "data_df.head()"
   ]
  },
  {
   "cell_type": "code",
   "execution_count": null,
   "id": "6fc8099d",
   "metadata": {
    "tags": []
   },
   "outputs": [],
   "source": [
    "bad_reviews = data_df.loc[data_df[\"star_rating\"] == 1]\n",
    "len(bad_reviews)"
   ]
  },
  {
   "cell_type": "code",
   "execution_count": null,
   "id": "5f39fabf",
   "metadata": {
    "tags": []
   },
   "outputs": [],
   "source": [
    "bad_reviews[\"review_body\"].head()"
   ]
  },
  {
   "cell_type": "markdown",
   "id": "511a2a04",
   "metadata": {},
   "source": [
    "# Cleaning Data"
   ]
  },
  {
   "cell_type": "code",
   "execution_count": null,
   "id": "fcb23efd",
   "metadata": {
    "scrolled": true,
    "tags": []
   },
   "outputs": [],
   "source": [
    "# a little sentiment analysis\n",
    "model_name = \"finiteautomata/bertweet-base-sentiment-analysis\"\n",
    "sentiment_pipeline = pipeline(\"text-classification\", model=model_name)"
   ]
  },
  {
   "cell_type": "code",
   "execution_count": null,
   "id": "accac968",
   "metadata": {
    "tags": []
   },
   "outputs": [],
   "source": [
    "sentiment_pipeline.__dict__"
   ]
  },
  {
   "cell_type": "code",
   "execution_count": null,
   "id": "bae1fda5",
   "metadata": {
    "tags": []
   },
   "outputs": [],
   "source": [
    "review = bad_reviews[\"review_body\"].values[0]\n",
    "sentiment_pipeline(review)"
   ]
  },
  {
   "cell_type": "code",
   "execution_count": null,
   "id": "12759d93",
   "metadata": {
    "tags": []
   },
   "outputs": [],
   "source": [
    "cleaner_data = None\n",
    "\n",
    "for index, bad_review in bad_reviews.iterrows():\n",
    "    sentiment = sentiment_pipeline(bad_review[\"review_body\"])[0]\n",
    "    if (sentiment[\"label\"] == \"POSITIVE\"):\n",
    "        cleaner_data = bad_reviews.drop(index=index, axis = 0)\n",
    "    elif sentiment[\"score\"] < 0.8:\n",
    "        cleaner_data = bad_reviews.drop(index=index, axis = 0)\n"
   ]
  },
  {
   "cell_type": "code",
   "execution_count": null,
   "id": "ae305d0c",
   "metadata": {
    "tags": []
   },
   "outputs": [],
   "source": [
    "len(cleaner_data )"
   ]
  },
  {
   "cell_type": "code",
   "execution_count": null,
   "id": "82737349",
   "metadata": {
    "tags": []
   },
   "outputs": [],
   "source": []
  },
  {
   "cell_type": "markdown",
   "id": "fa4e28aa",
   "metadata": {},
   "source": [
    "# Retraining on top of transformers"
   ]
  },
  {
   "cell_type": "code",
   "execution_count": null,
   "id": "d865ebeb",
   "metadata": {
    "tags": []
   },
   "outputs": [],
   "source": [
    "from transformers import AutoModelForCausalLM, AutoTokenizer\n",
    "\n",
    "tokenizer = AutoTokenizer.from_pretrained(\"gpt2\")\n",
    "tokenizer.add_special_tokens({'pad_token': '[PAD]'})\n",
    "\n",
    "model = AutoModelForCausalLM.from_pretrained(\"gpt2\")"
   ]
  },
  {
   "cell_type": "code",
   "execution_count": null,
   "id": "fdbd117a",
   "metadata": {
    "scrolled": true,
    "tags": []
   },
   "outputs": [],
   "source": [
    "bad_reviews_array = bad_reviews[\"review_body\"].values.tolist()\n",
    "bad_reviews_array[0:2]"
   ]
  },
  {
   "cell_type": "code",
   "execution_count": null,
   "id": "ec7eb949",
   "metadata": {
    "tags": []
   },
   "outputs": [],
   "source": [
    "tokenized_bad_reviews = tokenizer(bad_reviews_array, padding=True, truncation=True, max_length=512, return_tensors=\"pt\")"
   ]
  },
  {
   "cell_type": "code",
   "execution_count": null,
   "id": "fae4e19e",
   "metadata": {
    "tags": []
   },
   "outputs": [],
   "source": [
    "type(tokenized_bad_reviews)"
   ]
  },
  {
   "cell_type": "code",
   "execution_count": null,
   "id": "840baf54",
   "metadata": {
    "tags": []
   },
   "outputs": [],
   "source": [
    "# \n",
    "from transformers import Trainer, TrainingArguments\n",
    "import torch\n",
    "\n",
    "training_args = TrainingArguments(\n",
    "    output_dir=\"./results\",\n",
    "    num_train_epochs=3,\n",
    "    per_device_train_batch_size=16,\n",
    "    per_device_eval_batch_size=64,\n",
    "    warmup_steps=500,\n",
    "    weight_decay=0.01,\n",
    "    logging_dir=\"./logs\",\n",
    ")\n",
    "\n",
    "trainer = Trainer(\n",
    "    model=model,\n",
    "    args=training_args,\n",
    "    train_dataset=tokenized_bad_reviews,\n",
    "    data_collator=lambda data: {\"input_ids\": torch.stack([f[0] for f in data]), \"attention_mask\": torch.stack([f[1] for f in data]), \"labels\": torch.stack([f[0] for f in data])},\n",
    ")\n",
    "\n",
    "trainer.train()"
   ]
  },
  {
   "cell_type": "code",
   "execution_count": null,
   "id": "0b143d7c-89ae-4afe-a6e8-214cfe4ada67",
   "metadata": {
    "tags": []
   },
   "outputs": [],
   "source": []
  }
 ],
 "metadata": {
  "kernelspec": {
   "display_name": "Python 3 (ipykernel)",
   "language": "python",
   "name": "python3"
  },
  "language_info": {
   "codemirror_mode": {
    "name": "ipython",
    "version": 3
   },
   "file_extension": ".py",
   "mimetype": "text/x-python",
   "name": "python",
   "nbconvert_exporter": "python",
   "pygments_lexer": "ipython3",
   "version": "3.11.3"
  }
 },
 "nbformat": 4,
 "nbformat_minor": 5
}
