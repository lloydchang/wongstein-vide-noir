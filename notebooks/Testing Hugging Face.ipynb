{
  "cells": [
    {
      "cell_type": "code",
      "execution_count": 1,
      "id": "bcd4d00e-8b9a-4b23-933d-30b64e9a453d",
      "metadata": {
        "tags": [],
        "colab": {
          "base_uri": "https://localhost:8080/"
        },
        "id": "bcd4d00e-8b9a-4b23-933d-30b64e9a453d",
        "outputId": "30c9b62d-3ccc-4c6e-bdb8-98845d28be27"
      },
      "outputs": [
        {
          "output_type": "stream",
          "name": "stdout",
          "text": [
            "Looking in indexes: https://pypi.org/simple, https://us-python.pkg.dev/colab-wheels/public/simple/\n",
            "Requirement already satisfied: transformers in /usr/local/lib/python3.9/dist-packages (4.28.1)\n",
            "Requirement already satisfied: tokenizers!=0.11.3,<0.14,>=0.11.1 in /usr/local/lib/python3.9/dist-packages (from transformers) (0.13.3)\n",
            "Requirement already satisfied: regex!=2019.12.17 in /usr/local/lib/python3.9/dist-packages (from transformers) (2022.10.31)\n",
            "Requirement already satisfied: packaging>=20.0 in /usr/local/lib/python3.9/dist-packages (from transformers) (23.0)\n",
            "Requirement already satisfied: pyyaml>=5.1 in /usr/local/lib/python3.9/dist-packages (from transformers) (6.0)\n",
            "Requirement already satisfied: huggingface-hub<1.0,>=0.11.0 in /usr/local/lib/python3.9/dist-packages (from transformers) (0.13.4)\n",
            "Requirement already satisfied: numpy>=1.17 in /usr/local/lib/python3.9/dist-packages (from transformers) (1.22.4)\n",
            "Requirement already satisfied: requests in /usr/local/lib/python3.9/dist-packages (from transformers) (2.27.1)\n",
            "Requirement already satisfied: filelock in /usr/local/lib/python3.9/dist-packages (from transformers) (3.11.0)\n",
            "Requirement already satisfied: tqdm>=4.27 in /usr/local/lib/python3.9/dist-packages (from transformers) (4.65.0)\n",
            "Requirement already satisfied: typing-extensions>=3.7.4.3 in /usr/local/lib/python3.9/dist-packages (from huggingface-hub<1.0,>=0.11.0->transformers) (4.5.0)\n",
            "Requirement already satisfied: urllib3<1.27,>=1.21.1 in /usr/local/lib/python3.9/dist-packages (from requests->transformers) (1.26.15)\n",
            "Requirement already satisfied: charset-normalizer~=2.0.0 in /usr/local/lib/python3.9/dist-packages (from requests->transformers) (2.0.12)\n",
            "Requirement already satisfied: idna<4,>=2.5 in /usr/local/lib/python3.9/dist-packages (from requests->transformers) (3.4)\n",
            "Requirement already satisfied: certifi>=2017.4.17 in /usr/local/lib/python3.9/dist-packages (from requests->transformers) (2022.12.7)\n"
          ]
        }
      ],
      "source": [
        "!pip install transformers\n",
        "from transformers import pipeline\n",
        "\n"
      ]
    },
    {
      "cell_type": "code",
      "execution_count": 2,
      "id": "7f0b7400",
      "metadata": {
        "tags": [],
        "colab": {
          "base_uri": "https://localhost:8080/"
        },
        "id": "7f0b7400",
        "outputId": "a0ad0fe6-5ff4-4ff1-eb3a-f4469da48c5f"
      },
      "outputs": [
        {
          "output_type": "stream",
          "name": "stderr",
          "text": [
            "/usr/local/lib/python3.9/dist-packages/transformers/generation/utils.py:1219: UserWarning: You have modified the pretrained model configuration to control generation. This is a deprecated strategy to control generation and will be removed soon, in a future version. Please use a generation configuration file (see https://huggingface.co/docs/transformers/main_classes/text_generation)\n",
            "  warnings.warn(\n",
            "Setting `pad_token_id` to `eos_token_id`:50256 for open-end generation.\n"
          ]
        },
        {
          "output_type": "execute_result",
          "data": {
            "text/plain": [
              "[{'generated_text': 'I HATE MY JOB!!!!\\n\\nThe other day, I was doing my business at a mall in the North American city of Austin. I'},\n",
              " {'generated_text': \"I HATE MY JOB BECAUSE IT SOE IS MUCKING ME BECAUSE I'm TOTALLY GARNY HILL\"},\n",
              " {'generated_text': \"I HATE MY JOB!!!\\n\\nCaveats\\n\\n-I don't know what to call this because I'm kind of into this\"}]"
            ]
          },
          "metadata": {},
          "execution_count": 2
        }
      ],
      "source": [
        "generator = pipeline('text-generation', model = 'gpt2')\n",
        "generator(\"I HATE MY JOB\", max_length = 30, num_return_sequences=3)\n",
        "## [{'generated_text': \"Hello, I'm a language modeler. So while writing this, when I went out to meet my wife or come home she told me that my\"},"
      ]
    },
    {
      "cell_type": "markdown",
      "id": "540e515e",
      "metadata": {
        "id": "540e515e"
      },
      "source": [
        "## Idea 1\n",
        "Train text generator on Amazon bad reviews\n"
      ]
    },
    {
      "cell_type": "code",
      "execution_count": 3,
      "id": "e42856d1",
      "metadata": {
        "tags": [],
        "colab": {
          "base_uri": "https://localhost:8080/",
          "height": 625,
          "referenced_widgets": [
            "d265e94caea24d5a98f9611881e0cd93",
            "fc11f13f935248ddb2c658747e2714bf",
            "2ff1031bdd444992845b2cb6a5ce3e5f",
            "6711d62b4f884571b95ea748c17a3298",
            "7eac96a60f474b38b3958a755072e33a",
            "2bea7f63b6f64633a4c93881d01a5994",
            "ee7ed57907b34da88f27f0370d325ce4",
            "df84ee6dc21d46d3a220542696f65cf0",
            "41146de71b99490585176f82c5b8aa0d",
            "edb6369fa1464d79805c380fc4fbf768",
            "0e4151c6cff940f1aef9ed8362f2af58"
          ]
        },
        "id": "e42856d1",
        "outputId": "e7f6f43f-9cec-4d0f-967e-75dd37fbbacc"
      },
      "outputs": [
        {
          "output_type": "stream",
          "name": "stdout",
          "text": [
            "Looking in indexes: https://pypi.org/simple, https://us-python.pkg.dev/colab-wheels/public/simple/\n",
            "Requirement already satisfied: datasets in /usr/local/lib/python3.9/dist-packages (2.11.0)\n",
            "Requirement already satisfied: numpy>=1.17 in /usr/local/lib/python3.9/dist-packages (from datasets) (1.22.4)\n",
            "Requirement already satisfied: multiprocess in /usr/local/lib/python3.9/dist-packages (from datasets) (0.70.14)\n",
            "Requirement already satisfied: pandas in /usr/local/lib/python3.9/dist-packages (from datasets) (1.5.3)\n",
            "Requirement already satisfied: tqdm>=4.62.1 in /usr/local/lib/python3.9/dist-packages (from datasets) (4.65.0)\n",
            "Requirement already satisfied: aiohttp in /usr/local/lib/python3.9/dist-packages (from datasets) (3.8.4)\n",
            "Requirement already satisfied: dill<0.3.7,>=0.3.0 in /usr/local/lib/python3.9/dist-packages (from datasets) (0.3.6)\n",
            "Requirement already satisfied: xxhash in /usr/local/lib/python3.9/dist-packages (from datasets) (3.2.0)\n",
            "Requirement already satisfied: fsspec[http]>=2021.11.1 in /usr/local/lib/python3.9/dist-packages (from datasets) (2023.4.0)\n",
            "Requirement already satisfied: responses<0.19 in /usr/local/lib/python3.9/dist-packages (from datasets) (0.18.0)\n",
            "Requirement already satisfied: requests>=2.19.0 in /usr/local/lib/python3.9/dist-packages (from datasets) (2.27.1)\n",
            "Requirement already satisfied: pyarrow>=8.0.0 in /usr/local/lib/python3.9/dist-packages (from datasets) (9.0.0)\n",
            "Requirement already satisfied: huggingface-hub<1.0.0,>=0.11.0 in /usr/local/lib/python3.9/dist-packages (from datasets) (0.13.4)\n",
            "Requirement already satisfied: packaging in /usr/local/lib/python3.9/dist-packages (from datasets) (23.0)\n",
            "Requirement already satisfied: pyyaml>=5.1 in /usr/local/lib/python3.9/dist-packages (from datasets) (6.0)\n",
            "Requirement already satisfied: attrs>=17.3.0 in /usr/local/lib/python3.9/dist-packages (from aiohttp->datasets) (22.2.0)\n",
            "Requirement already satisfied: aiosignal>=1.1.2 in /usr/local/lib/python3.9/dist-packages (from aiohttp->datasets) (1.3.1)\n",
            "Requirement already satisfied: charset-normalizer<4.0,>=2.0 in /usr/local/lib/python3.9/dist-packages (from aiohttp->datasets) (2.0.12)\n",
            "Requirement already satisfied: yarl<2.0,>=1.0 in /usr/local/lib/python3.9/dist-packages (from aiohttp->datasets) (1.8.2)\n",
            "Requirement already satisfied: multidict<7.0,>=4.5 in /usr/local/lib/python3.9/dist-packages (from aiohttp->datasets) (6.0.4)\n",
            "Requirement already satisfied: frozenlist>=1.1.1 in /usr/local/lib/python3.9/dist-packages (from aiohttp->datasets) (1.3.3)\n",
            "Requirement already satisfied: async-timeout<5.0,>=4.0.0a3 in /usr/local/lib/python3.9/dist-packages (from aiohttp->datasets) (4.0.2)\n",
            "Requirement already satisfied: filelock in /usr/local/lib/python3.9/dist-packages (from huggingface-hub<1.0.0,>=0.11.0->datasets) (3.11.0)\n",
            "Requirement already satisfied: typing-extensions>=3.7.4.3 in /usr/local/lib/python3.9/dist-packages (from huggingface-hub<1.0.0,>=0.11.0->datasets) (4.5.0)\n",
            "Requirement already satisfied: certifi>=2017.4.17 in /usr/local/lib/python3.9/dist-packages (from requests>=2.19.0->datasets) (2022.12.7)\n",
            "Requirement already satisfied: idna<4,>=2.5 in /usr/local/lib/python3.9/dist-packages (from requests>=2.19.0->datasets) (3.4)\n",
            "Requirement already satisfied: urllib3<1.27,>=1.21.1 in /usr/local/lib/python3.9/dist-packages (from requests>=2.19.0->datasets) (1.26.15)\n",
            "Requirement already satisfied: pytz>=2020.1 in /usr/local/lib/python3.9/dist-packages (from pandas->datasets) (2022.7.1)\n",
            "Requirement already satisfied: python-dateutil>=2.8.1 in /usr/local/lib/python3.9/dist-packages (from pandas->datasets) (2.8.2)\n",
            "Requirement already satisfied: six>=1.5 in /usr/local/lib/python3.9/dist-packages (from python-dateutil>=2.8.1->pandas->datasets) (1.16.0)\n"
          ]
        },
        {
          "output_type": "stream",
          "name": "stderr",
          "text": [
            "WARNING:datasets.builder:Found cached dataset amazon_us_reviews (/root/.cache/huggingface/datasets/amazon_us_reviews/Digital_Video_Games_v1_00/0.1.0/17b2481be59723469538adeb8fd0a68b0ba363bbbdd71090e72c325ee6c7e563)\n"
          ]
        },
        {
          "output_type": "display_data",
          "data": {
            "text/plain": [
              "  0%|          | 0/1 [00:00<?, ?it/s]"
            ],
            "application/vnd.jupyter.widget-view+json": {
              "version_major": 2,
              "version_minor": 0,
              "model_id": "d265e94caea24d5a98f9611881e0cd93"
            }
          },
          "metadata": {}
        }
      ],
      "source": [
        "!pip install datasets\n",
        "from datasets import load_dataset\n",
        "\n",
        "dataset = load_dataset(\"amazon_us_reviews\", \"Digital_Video_Games_v1_00\")"
      ]
    },
    {
      "cell_type": "code",
      "execution_count": 4,
      "id": "d96aa56a",
      "metadata": {
        "tags": [],
        "colab": {
          "base_uri": "https://localhost:8080/",
          "height": 461
        },
        "id": "d96aa56a",
        "outputId": "9aa40850-4159-4768-f343-72d8e519375d"
      },
      "outputs": [
        {
          "output_type": "execute_result",
          "data": {
            "text/plain": [
              "  marketplace customer_id       review_id  product_id product_parent  \\\n",
              "0          US    21269168   RSH1OZ87OYK92  B013PURRZW      603406193   \n",
              "1          US      133437  R1WFOQ3N9BO65I  B00F4CEHNK      341969535   \n",
              "2          US    45765011   R3YOOS71KM5M9  B00DNHLFQA      951665344   \n",
              "3          US      113118  R3R14UATT3OUFU  B004RMK5QG      395682204   \n",
              "4          US    22151364   RV2W9SGDNQA2C  B00G9BNLQE      640460561   \n",
              "\n",
              "                                       product_title     product_category  \\\n",
              "0              Madden NFL 16 - Xbox One Digital Code  Digital_Video_Games   \n",
              "1                                Xbox Live Gift Card  Digital_Video_Games   \n",
              "2  Command & Conquer The Ultimate Collection [Ins...  Digital_Video_Games   \n",
              "3                      Playstation Plus Subscription  Digital_Video_Games   \n",
              "4  Saints Row IV - Enter The Dominatrix [Online G...  Digital_Video_Games   \n",
              "\n",
              "   star_rating  helpful_votes  total_votes  vine  verified_purchase  \\\n",
              "0            2              2            3     0                  0   \n",
              "1            5              0            0     0                  1   \n",
              "2            5              0            0     0                  1   \n",
              "3            5              0            0     0                  1   \n",
              "4            5              0            0     0                  1   \n",
              "\n",
              "                        review_headline  \\\n",
              "0  A slight improvement from last year.   \n",
              "1                            Five Stars   \n",
              "2               Hail to the great Yuri!   \n",
              "3                            Five Stars   \n",
              "4                            Five Stars   \n",
              "\n",
              "                                         review_body review_date  \n",
              "0  I keep buying madden every year hoping they ge...  2015-08-31  \n",
              "1                                            Awesome  2015-08-31  \n",
              "2  If you are prepping for the end of the world t...  2015-08-31  \n",
              "3                                            Perfect  2015-08-31  \n",
              "4                                           Awesome!  2015-08-31  "
            ],
            "text/html": [
              "\n",
              "  <div id=\"df-24e6c820-f6c7-406a-924f-4547da5b85b9\">\n",
              "    <div class=\"colab-df-container\">\n",
              "      <div>\n",
              "<style scoped>\n",
              "    .dataframe tbody tr th:only-of-type {\n",
              "        vertical-align: middle;\n",
              "    }\n",
              "\n",
              "    .dataframe tbody tr th {\n",
              "        vertical-align: top;\n",
              "    }\n",
              "\n",
              "    .dataframe thead th {\n",
              "        text-align: right;\n",
              "    }\n",
              "</style>\n",
              "<table border=\"1\" class=\"dataframe\">\n",
              "  <thead>\n",
              "    <tr style=\"text-align: right;\">\n",
              "      <th></th>\n",
              "      <th>marketplace</th>\n",
              "      <th>customer_id</th>\n",
              "      <th>review_id</th>\n",
              "      <th>product_id</th>\n",
              "      <th>product_parent</th>\n",
              "      <th>product_title</th>\n",
              "      <th>product_category</th>\n",
              "      <th>star_rating</th>\n",
              "      <th>helpful_votes</th>\n",
              "      <th>total_votes</th>\n",
              "      <th>vine</th>\n",
              "      <th>verified_purchase</th>\n",
              "      <th>review_headline</th>\n",
              "      <th>review_body</th>\n",
              "      <th>review_date</th>\n",
              "    </tr>\n",
              "  </thead>\n",
              "  <tbody>\n",
              "    <tr>\n",
              "      <th>0</th>\n",
              "      <td>US</td>\n",
              "      <td>21269168</td>\n",
              "      <td>RSH1OZ87OYK92</td>\n",
              "      <td>B013PURRZW</td>\n",
              "      <td>603406193</td>\n",
              "      <td>Madden NFL 16 - Xbox One Digital Code</td>\n",
              "      <td>Digital_Video_Games</td>\n",
              "      <td>2</td>\n",
              "      <td>2</td>\n",
              "      <td>3</td>\n",
              "      <td>0</td>\n",
              "      <td>0</td>\n",
              "      <td>A slight improvement from last year.</td>\n",
              "      <td>I keep buying madden every year hoping they ge...</td>\n",
              "      <td>2015-08-31</td>\n",
              "    </tr>\n",
              "    <tr>\n",
              "      <th>1</th>\n",
              "      <td>US</td>\n",
              "      <td>133437</td>\n",
              "      <td>R1WFOQ3N9BO65I</td>\n",
              "      <td>B00F4CEHNK</td>\n",
              "      <td>341969535</td>\n",
              "      <td>Xbox Live Gift Card</td>\n",
              "      <td>Digital_Video_Games</td>\n",
              "      <td>5</td>\n",
              "      <td>0</td>\n",
              "      <td>0</td>\n",
              "      <td>0</td>\n",
              "      <td>1</td>\n",
              "      <td>Five Stars</td>\n",
              "      <td>Awesome</td>\n",
              "      <td>2015-08-31</td>\n",
              "    </tr>\n",
              "    <tr>\n",
              "      <th>2</th>\n",
              "      <td>US</td>\n",
              "      <td>45765011</td>\n",
              "      <td>R3YOOS71KM5M9</td>\n",
              "      <td>B00DNHLFQA</td>\n",
              "      <td>951665344</td>\n",
              "      <td>Command &amp; Conquer The Ultimate Collection [Ins...</td>\n",
              "      <td>Digital_Video_Games</td>\n",
              "      <td>5</td>\n",
              "      <td>0</td>\n",
              "      <td>0</td>\n",
              "      <td>0</td>\n",
              "      <td>1</td>\n",
              "      <td>Hail to the great Yuri!</td>\n",
              "      <td>If you are prepping for the end of the world t...</td>\n",
              "      <td>2015-08-31</td>\n",
              "    </tr>\n",
              "    <tr>\n",
              "      <th>3</th>\n",
              "      <td>US</td>\n",
              "      <td>113118</td>\n",
              "      <td>R3R14UATT3OUFU</td>\n",
              "      <td>B004RMK5QG</td>\n",
              "      <td>395682204</td>\n",
              "      <td>Playstation Plus Subscription</td>\n",
              "      <td>Digital_Video_Games</td>\n",
              "      <td>5</td>\n",
              "      <td>0</td>\n",
              "      <td>0</td>\n",
              "      <td>0</td>\n",
              "      <td>1</td>\n",
              "      <td>Five Stars</td>\n",
              "      <td>Perfect</td>\n",
              "      <td>2015-08-31</td>\n",
              "    </tr>\n",
              "    <tr>\n",
              "      <th>4</th>\n",
              "      <td>US</td>\n",
              "      <td>22151364</td>\n",
              "      <td>RV2W9SGDNQA2C</td>\n",
              "      <td>B00G9BNLQE</td>\n",
              "      <td>640460561</td>\n",
              "      <td>Saints Row IV - Enter The Dominatrix [Online G...</td>\n",
              "      <td>Digital_Video_Games</td>\n",
              "      <td>5</td>\n",
              "      <td>0</td>\n",
              "      <td>0</td>\n",
              "      <td>0</td>\n",
              "      <td>1</td>\n",
              "      <td>Five Stars</td>\n",
              "      <td>Awesome!</td>\n",
              "      <td>2015-08-31</td>\n",
              "    </tr>\n",
              "  </tbody>\n",
              "</table>\n",
              "</div>\n",
              "      <button class=\"colab-df-convert\" onclick=\"convertToInteractive('df-24e6c820-f6c7-406a-924f-4547da5b85b9')\"\n",
              "              title=\"Convert this dataframe to an interactive table.\"\n",
              "              style=\"display:none;\">\n",
              "        \n",
              "  <svg xmlns=\"http://www.w3.org/2000/svg\" height=\"24px\"viewBox=\"0 0 24 24\"\n",
              "       width=\"24px\">\n",
              "    <path d=\"M0 0h24v24H0V0z\" fill=\"none\"/>\n",
              "    <path d=\"M18.56 5.44l.94 2.06.94-2.06 2.06-.94-2.06-.94-.94-2.06-.94 2.06-2.06.94zm-11 1L8.5 8.5l.94-2.06 2.06-.94-2.06-.94L8.5 2.5l-.94 2.06-2.06.94zm10 10l.94 2.06.94-2.06 2.06-.94-2.06-.94-.94-2.06-.94 2.06-2.06.94z\"/><path d=\"M17.41 7.96l-1.37-1.37c-.4-.4-.92-.59-1.43-.59-.52 0-1.04.2-1.43.59L10.3 9.45l-7.72 7.72c-.78.78-.78 2.05 0 2.83L4 21.41c.39.39.9.59 1.41.59.51 0 1.02-.2 1.41-.59l7.78-7.78 2.81-2.81c.8-.78.8-2.07 0-2.86zM5.41 20L4 18.59l7.72-7.72 1.47 1.35L5.41 20z\"/>\n",
              "  </svg>\n",
              "      </button>\n",
              "      \n",
              "  <style>\n",
              "    .colab-df-container {\n",
              "      display:flex;\n",
              "      flex-wrap:wrap;\n",
              "      gap: 12px;\n",
              "    }\n",
              "\n",
              "    .colab-df-convert {\n",
              "      background-color: #E8F0FE;\n",
              "      border: none;\n",
              "      border-radius: 50%;\n",
              "      cursor: pointer;\n",
              "      display: none;\n",
              "      fill: #1967D2;\n",
              "      height: 32px;\n",
              "      padding: 0 0 0 0;\n",
              "      width: 32px;\n",
              "    }\n",
              "\n",
              "    .colab-df-convert:hover {\n",
              "      background-color: #E2EBFA;\n",
              "      box-shadow: 0px 1px 2px rgba(60, 64, 67, 0.3), 0px 1px 3px 1px rgba(60, 64, 67, 0.15);\n",
              "      fill: #174EA6;\n",
              "    }\n",
              "\n",
              "    [theme=dark] .colab-df-convert {\n",
              "      background-color: #3B4455;\n",
              "      fill: #D2E3FC;\n",
              "    }\n",
              "\n",
              "    [theme=dark] .colab-df-convert:hover {\n",
              "      background-color: #434B5C;\n",
              "      box-shadow: 0px 1px 3px 1px rgba(0, 0, 0, 0.15);\n",
              "      filter: drop-shadow(0px 1px 2px rgba(0, 0, 0, 0.3));\n",
              "      fill: #FFFFFF;\n",
              "    }\n",
              "  </style>\n",
              "\n",
              "      <script>\n",
              "        const buttonEl =\n",
              "          document.querySelector('#df-24e6c820-f6c7-406a-924f-4547da5b85b9 button.colab-df-convert');\n",
              "        buttonEl.style.display =\n",
              "          google.colab.kernel.accessAllowed ? 'block' : 'none';\n",
              "\n",
              "        async function convertToInteractive(key) {\n",
              "          const element = document.querySelector('#df-24e6c820-f6c7-406a-924f-4547da5b85b9');\n",
              "          const dataTable =\n",
              "            await google.colab.kernel.invokeFunction('convertToInteractive',\n",
              "                                                     [key], {});\n",
              "          if (!dataTable) return;\n",
              "\n",
              "          const docLinkHtml = 'Like what you see? Visit the ' +\n",
              "            '<a target=\"_blank\" href=https://colab.research.google.com/notebooks/data_table.ipynb>data table notebook</a>'\n",
              "            + ' to learn more about interactive tables.';\n",
              "          element.innerHTML = '';\n",
              "          dataTable['output_type'] = 'display_data';\n",
              "          await google.colab.output.renderOutput(dataTable, element);\n",
              "          const docLink = document.createElement('div');\n",
              "          docLink.innerHTML = docLinkHtml;\n",
              "          element.appendChild(docLink);\n",
              "        }\n",
              "      </script>\n",
              "    </div>\n",
              "  </div>\n",
              "  "
            ]
          },
          "metadata": {},
          "execution_count": 4
        }
      ],
      "source": [
        "import pandas as pd\n",
        "\n",
        "data_df = pd.DataFrame.from_dict(dataset['train'])\n",
        "data_df.head()"
      ]
    },
    {
      "cell_type": "code",
      "execution_count": 5,
      "id": "6fc8099d",
      "metadata": {
        "tags": [],
        "colab": {
          "base_uri": "https://localhost:8080/"
        },
        "id": "6fc8099d",
        "outputId": "96c5d398-4799-4d60-a26d-a294790964bd"
      },
      "outputs": [
        {
          "output_type": "execute_result",
          "data": {
            "text/plain": [
              "24970"
            ]
          },
          "metadata": {},
          "execution_count": 5
        }
      ],
      "source": [
        "bad_reviews = data_df.loc[data_df[\"star_rating\"] == 1]\n",
        "len(bad_reviews)"
      ]
    },
    {
      "cell_type": "code",
      "execution_count": 6,
      "id": "5f39fabf",
      "metadata": {
        "tags": [],
        "colab": {
          "base_uri": "https://localhost:8080/"
        },
        "id": "5f39fabf",
        "outputId": "e8efa180-6bbe-46f2-efa4-f5538a405b84"
      },
      "outputs": [
        {
          "output_type": "execute_result",
          "data": {
            "text/plain": [
              "10    As has been written by so many others, I quick...\n",
              "14                Lames purchase I almost never made...\n",
              "24                                               Gross!\n",
              "26           Not the best graphics :(<br />Dissapointed\n",
              "30                                               Stolen\n",
              "Name: review_body, dtype: object"
            ]
          },
          "metadata": {},
          "execution_count": 6
        }
      ],
      "source": [
        "bad_reviews[\"review_body\"].head()"
      ]
    },
    {
      "cell_type": "code",
      "source": [
        "bad_reviews[\"message_len\"]=[len(i) for i in bad_reviews[\"review_body\"].values] # [0 for i in range(0,24970)]"
      ],
      "metadata": {
        "colab": {
          "base_uri": "https://localhost:8080/"
        },
        "id": "FILluNOqEwoq",
        "outputId": "ccd0d349-752e-4543-e9a1-87b4d5ab146f"
      },
      "id": "FILluNOqEwoq",
      "execution_count": 15,
      "outputs": [
        {
          "output_type": "stream",
          "name": "stderr",
          "text": [
            "<ipython-input-15-90594dcaec4e>:1: SettingWithCopyWarning: \n",
            "A value is trying to be set on a copy of a slice from a DataFrame.\n",
            "Try using .loc[row_indexer,col_indexer] = value instead\n",
            "\n",
            "See the caveats in the documentation: https://pandas.pydata.org/pandas-docs/stable/user_guide/indexing.html#returning-a-view-versus-a-copy\n",
            "  bad_reviews[\"message_len\"]=[len(i) for i in bad_reviews[\"review_body\"].values] # [0 for i in range(0,24970)]\n"
          ]
        }
      ]
    },
    {
      "cell_type": "code",
      "source": [
        "# dall=dall.mul(row.loc[0],axis=1)"
      ],
      "metadata": {
        "id": "18el3mHKFe0K"
      },
      "id": "18el3mHKFe0K",
      "execution_count": null,
      "outputs": []
    },
    {
      "cell_type": "code",
      "source": [
        "# [len(i) for i in bad_reviews[\"review_body\"].values]"
      ],
      "metadata": {
        "id": "2ArJhSLHFlso"
      },
      "id": "2ArJhSLHFlso",
      "execution_count": 16,
      "outputs": []
    },
    {
      "cell_type": "code",
      "source": [
        "bad_reviews_small=bad_reviews.loc[bad_reviews[\"message_len\"]<128]"
      ],
      "metadata": {
        "id": "_sodZQxEF-Q6"
      },
      "id": "_sodZQxEF-Q6",
      "execution_count": 20,
      "outputs": []
    },
    {
      "cell_type": "code",
      "source": [
        "bad_reviews_small.shape"
      ],
      "metadata": {
        "colab": {
          "base_uri": "https://localhost:8080/"
        },
        "id": "PVwRVkbDG3er",
        "outputId": "a1eeb38c-82f5-449e-e4f4-fe2647181091"
      },
      "id": "PVwRVkbDG3er",
      "execution_count": 21,
      "outputs": [
        {
          "output_type": "execute_result",
          "data": {
            "text/plain": [
              "(7671, 16)"
            ]
          },
          "metadata": {},
          "execution_count": 21
        }
      ]
    },
    {
      "cell_type": "code",
      "source": [
        "bad_reviews.shape"
      ],
      "metadata": {
        "colab": {
          "base_uri": "https://localhost:8080/"
        },
        "id": "vGgvT7LoG86J",
        "outputId": "acb479ee-1c21-4bcb-fdf4-49e67f7baeb0"
      },
      "id": "vGgvT7LoG86J",
      "execution_count": 22,
      "outputs": [
        {
          "output_type": "execute_result",
          "data": {
            "text/plain": [
              "(24970, 16)"
            ]
          },
          "metadata": {},
          "execution_count": 22
        }
      ]
    },
    {
      "cell_type": "code",
      "source": [
        "# bad_reviews[\"message_len\"]"
      ],
      "metadata": {
        "colab": {
          "base_uri": "https://localhost:8080/"
        },
        "id": "3YOg9zjBGqO1",
        "outputId": "d5949cc6-d926-4dff-f839-fb62d91b5912"
      },
      "id": "3YOg9zjBGqO1",
      "execution_count": 19,
      "outputs": [
        {
          "output_type": "execute_result",
          "data": {
            "text/plain": [
              "10         540\n",
              "14          37\n",
              "24           6\n",
              "26          42\n",
              "30           6\n",
              "          ... \n",
              "145415     108\n",
              "145421     133\n",
              "145425     240\n",
              "145427     453\n",
              "145429    2552\n",
              "Name: message_len, Length: 24970, dtype: int64"
            ]
          },
          "metadata": {},
          "execution_count": 19
        }
      ]
    },
    {
      "cell_type": "code",
      "source": [
        "# bad_reviews[\"message_len\"]"
      ],
      "metadata": {
        "colab": {
          "base_uri": "https://localhost:8080/"
        },
        "id": "bhFkz3zRHAwk",
        "outputId": "f1780f6e-102f-4240-ba71-a19f9f7a17ab"
      },
      "id": "bhFkz3zRHAwk",
      "execution_count": 23,
      "outputs": [
        {
          "output_type": "execute_result",
          "data": {
            "text/plain": [
              "14         37\n",
              "24          6\n",
              "26         42\n",
              "30          6\n",
              "35          5\n",
              "         ... \n",
              "144841    100\n",
              "144996     70\n",
              "145177     77\n",
              "145390     78\n",
              "145415    108\n",
              "Name: message_len, Length: 7671, dtype: int64"
            ]
          },
          "metadata": {},
          "execution_count": 23
        }
      ]
    },
    {
      "cell_type": "markdown",
      "id": "511a2a04",
      "metadata": {
        "id": "511a2a04"
      },
      "source": [
        "# Cleaning Data"
      ]
    },
    {
      "cell_type": "code",
      "execution_count": 7,
      "id": "fcb23efd",
      "metadata": {
        "scrolled": true,
        "tags": [],
        "colab": {
          "base_uri": "https://localhost:8080/"
        },
        "id": "fcb23efd",
        "outputId": "08e0a687-6d45-4077-cdf7-be05c2d23308"
      },
      "outputs": [
        {
          "output_type": "stream",
          "name": "stderr",
          "text": [
            "emoji is not installed, thus not converting emoticons or emojis into text. Install emoji: pip3 install emoji==0.6.0\n"
          ]
        }
      ],
      "source": [
        "# a little sentiment analysis\n",
        "model_name = \"finiteautomata/bertweet-base-sentiment-analysis\"\n",
        "sentiment_pipeline = pipeline(\"text-classification\", model=model_name)"
      ]
    },
    {
      "cell_type": "code",
      "execution_count": 8,
      "id": "accac968",
      "metadata": {
        "tags": [],
        "colab": {
          "base_uri": "https://localhost:8080/"
        },
        "id": "accac968",
        "outputId": "754198c7-f223-4b3a-d07c-bddeefb61159"
      },
      "outputs": [
        {
          "output_type": "execute_result",
          "data": {
            "text/plain": [
              "{'task': 'text-classification',\n",
              " 'model': RobertaForSequenceClassification(\n",
              "   (roberta): RobertaModel(\n",
              "     (embeddings): RobertaEmbeddings(\n",
              "       (word_embeddings): Embedding(64001, 768, padding_idx=1)\n",
              "       (position_embeddings): Embedding(130, 768, padding_idx=1)\n",
              "       (token_type_embeddings): Embedding(1, 768)\n",
              "       (LayerNorm): LayerNorm((768,), eps=1e-05, elementwise_affine=True)\n",
              "       (dropout): Dropout(p=0.1, inplace=False)\n",
              "     )\n",
              "     (encoder): RobertaEncoder(\n",
              "       (layer): ModuleList(\n",
              "         (0-11): 12 x RobertaLayer(\n",
              "           (attention): RobertaAttention(\n",
              "             (self): RobertaSelfAttention(\n",
              "               (query): Linear(in_features=768, out_features=768, bias=True)\n",
              "               (key): Linear(in_features=768, out_features=768, bias=True)\n",
              "               (value): Linear(in_features=768, out_features=768, bias=True)\n",
              "               (dropout): Dropout(p=0.1, inplace=False)\n",
              "             )\n",
              "             (output): RobertaSelfOutput(\n",
              "               (dense): Linear(in_features=768, out_features=768, bias=True)\n",
              "               (LayerNorm): LayerNorm((768,), eps=1e-05, elementwise_affine=True)\n",
              "               (dropout): Dropout(p=0.1, inplace=False)\n",
              "             )\n",
              "           )\n",
              "           (intermediate): RobertaIntermediate(\n",
              "             (dense): Linear(in_features=768, out_features=3072, bias=True)\n",
              "             (intermediate_act_fn): GELUActivation()\n",
              "           )\n",
              "           (output): RobertaOutput(\n",
              "             (dense): Linear(in_features=3072, out_features=768, bias=True)\n",
              "             (LayerNorm): LayerNorm((768,), eps=1e-05, elementwise_affine=True)\n",
              "             (dropout): Dropout(p=0.1, inplace=False)\n",
              "           )\n",
              "         )\n",
              "       )\n",
              "     )\n",
              "   )\n",
              "   (classifier): RobertaClassificationHead(\n",
              "     (dense): Linear(in_features=768, out_features=768, bias=True)\n",
              "     (dropout): Dropout(p=0.1, inplace=False)\n",
              "     (out_proj): Linear(in_features=768, out_features=3, bias=True)\n",
              "   )\n",
              " ),\n",
              " 'tokenizer': BertweetTokenizer(name_or_path='finiteautomata/bertweet-base-sentiment-analysis', vocab_size=64000, model_max_length=128, is_fast=False, padding_side='right', truncation_side='right', special_tokens={'bos_token': '<s>', 'eos_token': '</s>', 'unk_token': '<unk>', 'sep_token': '</s>', 'pad_token': '<pad>', 'cls_token': '<s>', 'mask_token': '<mask>'}, clean_up_tokenization_spaces=True),\n",
              " 'feature_extractor': None,\n",
              " 'image_processor': None,\n",
              " 'modelcard': None,\n",
              " 'framework': 'pt',\n",
              " 'device': device(type='cpu'),\n",
              " 'torch_dtype': None,\n",
              " 'binary_output': False,\n",
              " 'call_count': 0,\n",
              " '_batch_size': None,\n",
              " '_num_workers': None,\n",
              " '_preprocess_params': {},\n",
              " '_forward_params': {},\n",
              " '_postprocess_params': {}}"
            ]
          },
          "metadata": {},
          "execution_count": 8
        }
      ],
      "source": [
        "sentiment_pipeline.__dict__"
      ]
    },
    {
      "cell_type": "code",
      "execution_count": 25,
      "id": "bae1fda5",
      "metadata": {
        "tags": [],
        "colab": {
          "base_uri": "https://localhost:8080/"
        },
        "id": "bae1fda5",
        "outputId": "7e2b4a6f-9670-4709-ef6c-026546e5012e"
      },
      "outputs": [
        {
          "output_type": "execute_result",
          "data": {
            "text/plain": [
              "[{'label': 'NEG', 'score': 0.9216219782829285}]"
            ]
          },
          "metadata": {},
          "execution_count": 25
        }
      ],
      "source": [
        "review = bad_reviews_small[\"review_body\"].values[0]\n",
        "sentiment_pipeline(review)"
      ]
    },
    {
      "cell_type": "code",
      "execution_count": null,
      "id": "12759d93",
      "metadata": {
        "tags": [],
        "id": "12759d93"
      },
      "outputs": [],
      "source": [
        "cleaner_data = None\n",
        "\n",
        "for index, bad_review in bad_reviews_small.iterrows():\n",
        "    sentiment = sentiment_pipeline(bad_review[\"review_body\"])[0]\n",
        "    if (sentiment[\"label\"] == \"POSITIVE\"):\n",
        "        cleaner_data = bad_reviews.drop(index=index, axis = 0)\n",
        "    elif sentiment[\"score\"] < 0.8:\n",
        "        cleaner_data = bad_reviews.drop(index=index, axis = 0)\n"
      ]
    },
    {
      "cell_type": "code",
      "execution_count": null,
      "id": "ae305d0c",
      "metadata": {
        "tags": [],
        "id": "ae305d0c"
      },
      "outputs": [],
      "source": [
        "len(cleaner_data )"
      ]
    },
    {
      "cell_type": "code",
      "execution_count": null,
      "id": "82737349",
      "metadata": {
        "tags": [],
        "id": "82737349"
      },
      "outputs": [],
      "source": []
    },
    {
      "cell_type": "markdown",
      "id": "fa4e28aa",
      "metadata": {
        "id": "fa4e28aa"
      },
      "source": [
        "# Retraining on top of transformers"
      ]
    },
    {
      "cell_type": "code",
      "execution_count": null,
      "id": "d865ebeb",
      "metadata": {
        "tags": [],
        "id": "d865ebeb"
      },
      "outputs": [],
      "source": [
        "from transformers import AutoModelForCausalLM, AutoTokenizer\n",
        "\n",
        "tokenizer = AutoTokenizer.from_pretrained(\"gpt2\")\n",
        "tokenizer.add_special_tokens({'pad_token': '[PAD]'})\n",
        "\n",
        "model = AutoModelForCausalLM.from_pretrained(\"gpt2\")"
      ]
    },
    {
      "cell_type": "code",
      "execution_count": null,
      "id": "fdbd117a",
      "metadata": {
        "scrolled": true,
        "tags": [],
        "id": "fdbd117a"
      },
      "outputs": [],
      "source": [
        "bad_reviews_array = bad_reviews[\"review_body\"].values.tolist()\n",
        "bad_reviews_array[0:2]"
      ]
    },
    {
      "cell_type": "code",
      "execution_count": null,
      "id": "ec7eb949",
      "metadata": {
        "tags": [],
        "id": "ec7eb949"
      },
      "outputs": [],
      "source": [
        "tokenized_bad_reviews = tokenizer(bad_reviews_array, padding=True, truncation=True, max_length=512, return_tensors=\"pt\")"
      ]
    },
    {
      "cell_type": "code",
      "execution_count": null,
      "id": "fae4e19e",
      "metadata": {
        "tags": [],
        "id": "fae4e19e"
      },
      "outputs": [],
      "source": [
        "type(tokenized_bad_reviews)"
      ]
    },
    {
      "cell_type": "code",
      "execution_count": null,
      "id": "840baf54",
      "metadata": {
        "tags": [],
        "id": "840baf54"
      },
      "outputs": [],
      "source": [
        "# \n",
        "from transformers import Trainer, TrainingArguments\n",
        "import torch\n",
        "\n",
        "training_args = TrainingArguments(\n",
        "    output_dir=\"./results\",\n",
        "    num_train_epochs=3,\n",
        "    per_device_train_batch_size=16,\n",
        "    per_device_eval_batch_size=64,\n",
        "    warmup_steps=500,\n",
        "    weight_decay=0.01,\n",
        "    logging_dir=\"./logs\",\n",
        ")\n",
        "\n",
        "trainer = Trainer(\n",
        "    model=model,\n",
        "    args=training_args,\n",
        "    train_dataset=tokenized_bad_reviews,\n",
        "    data_collator=lambda data: {\"input_ids\": torch.stack([f[0] for f in data]), \"attention_mask\": torch.stack([f[1] for f in data]), \"labels\": torch.stack([f[0] for f in data])},\n",
        ")\n",
        "\n",
        "trainer.train()"
      ]
    },
    {
      "cell_type": "code",
      "execution_count": null,
      "id": "0b143d7c-89ae-4afe-a6e8-214cfe4ada67",
      "metadata": {
        "tags": [],
        "id": "0b143d7c-89ae-4afe-a6e8-214cfe4ada67"
      },
      "outputs": [],
      "source": []
    }
  ],
  "metadata": {
    "kernelspec": {
      "display_name": "Python 3 (ipykernel)",
      "language": "python",
      "name": "python3"
    },
    "language_info": {
      "codemirror_mode": {
        "name": "ipython",
        "version": 3
      },
      "file_extension": ".py",
      "mimetype": "text/x-python",
      "name": "python",
      "nbconvert_exporter": "python",
      "pygments_lexer": "ipython3",
      "version": "3.11.3"
    },
    "colab": {
      "provenance": []
    },
    "accelerator": "GPU",
    "gpuClass": "standard",
    "widgets": {
      "application/vnd.jupyter.widget-state+json": {
        "d265e94caea24d5a98f9611881e0cd93": {
          "model_module": "@jupyter-widgets/controls",
          "model_name": "HBoxModel",
          "model_module_version": "1.5.0",
          "state": {
            "_dom_classes": [],
            "_model_module": "@jupyter-widgets/controls",
            "_model_module_version": "1.5.0",
            "_model_name": "HBoxModel",
            "_view_count": null,
            "_view_module": "@jupyter-widgets/controls",
            "_view_module_version": "1.5.0",
            "_view_name": "HBoxView",
            "box_style": "",
            "children": [
              "IPY_MODEL_fc11f13f935248ddb2c658747e2714bf",
              "IPY_MODEL_2ff1031bdd444992845b2cb6a5ce3e5f",
              "IPY_MODEL_6711d62b4f884571b95ea748c17a3298"
            ],
            "layout": "IPY_MODEL_7eac96a60f474b38b3958a755072e33a"
          }
        },
        "fc11f13f935248ddb2c658747e2714bf": {
          "model_module": "@jupyter-widgets/controls",
          "model_name": "HTMLModel",
          "model_module_version": "1.5.0",
          "state": {
            "_dom_classes": [],
            "_model_module": "@jupyter-widgets/controls",
            "_model_module_version": "1.5.0",
            "_model_name": "HTMLModel",
            "_view_count": null,
            "_view_module": "@jupyter-widgets/controls",
            "_view_module_version": "1.5.0",
            "_view_name": "HTMLView",
            "description": "",
            "description_tooltip": null,
            "layout": "IPY_MODEL_2bea7f63b6f64633a4c93881d01a5994",
            "placeholder": "​",
            "style": "IPY_MODEL_ee7ed57907b34da88f27f0370d325ce4",
            "value": "100%"
          }
        },
        "2ff1031bdd444992845b2cb6a5ce3e5f": {
          "model_module": "@jupyter-widgets/controls",
          "model_name": "FloatProgressModel",
          "model_module_version": "1.5.0",
          "state": {
            "_dom_classes": [],
            "_model_module": "@jupyter-widgets/controls",
            "_model_module_version": "1.5.0",
            "_model_name": "FloatProgressModel",
            "_view_count": null,
            "_view_module": "@jupyter-widgets/controls",
            "_view_module_version": "1.5.0",
            "_view_name": "ProgressView",
            "bar_style": "success",
            "description": "",
            "description_tooltip": null,
            "layout": "IPY_MODEL_df84ee6dc21d46d3a220542696f65cf0",
            "max": 1,
            "min": 0,
            "orientation": "horizontal",
            "style": "IPY_MODEL_41146de71b99490585176f82c5b8aa0d",
            "value": 1
          }
        },
        "6711d62b4f884571b95ea748c17a3298": {
          "model_module": "@jupyter-widgets/controls",
          "model_name": "HTMLModel",
          "model_module_version": "1.5.0",
          "state": {
            "_dom_classes": [],
            "_model_module": "@jupyter-widgets/controls",
            "_model_module_version": "1.5.0",
            "_model_name": "HTMLModel",
            "_view_count": null,
            "_view_module": "@jupyter-widgets/controls",
            "_view_module_version": "1.5.0",
            "_view_name": "HTMLView",
            "description": "",
            "description_tooltip": null,
            "layout": "IPY_MODEL_edb6369fa1464d79805c380fc4fbf768",
            "placeholder": "​",
            "style": "IPY_MODEL_0e4151c6cff940f1aef9ed8362f2af58",
            "value": " 1/1 [00:00&lt;00:00, 26.20it/s]"
          }
        },
        "7eac96a60f474b38b3958a755072e33a": {
          "model_module": "@jupyter-widgets/base",
          "model_name": "LayoutModel",
          "model_module_version": "1.2.0",
          "state": {
            "_model_module": "@jupyter-widgets/base",
            "_model_module_version": "1.2.0",
            "_model_name": "LayoutModel",
            "_view_count": null,
            "_view_module": "@jupyter-widgets/base",
            "_view_module_version": "1.2.0",
            "_view_name": "LayoutView",
            "align_content": null,
            "align_items": null,
            "align_self": null,
            "border": null,
            "bottom": null,
            "display": null,
            "flex": null,
            "flex_flow": null,
            "grid_area": null,
            "grid_auto_columns": null,
            "grid_auto_flow": null,
            "grid_auto_rows": null,
            "grid_column": null,
            "grid_gap": null,
            "grid_row": null,
            "grid_template_areas": null,
            "grid_template_columns": null,
            "grid_template_rows": null,
            "height": null,
            "justify_content": null,
            "justify_items": null,
            "left": null,
            "margin": null,
            "max_height": null,
            "max_width": null,
            "min_height": null,
            "min_width": null,
            "object_fit": null,
            "object_position": null,
            "order": null,
            "overflow": null,
            "overflow_x": null,
            "overflow_y": null,
            "padding": null,
            "right": null,
            "top": null,
            "visibility": null,
            "width": null
          }
        },
        "2bea7f63b6f64633a4c93881d01a5994": {
          "model_module": "@jupyter-widgets/base",
          "model_name": "LayoutModel",
          "model_module_version": "1.2.0",
          "state": {
            "_model_module": "@jupyter-widgets/base",
            "_model_module_version": "1.2.0",
            "_model_name": "LayoutModel",
            "_view_count": null,
            "_view_module": "@jupyter-widgets/base",
            "_view_module_version": "1.2.0",
            "_view_name": "LayoutView",
            "align_content": null,
            "align_items": null,
            "align_self": null,
            "border": null,
            "bottom": null,
            "display": null,
            "flex": null,
            "flex_flow": null,
            "grid_area": null,
            "grid_auto_columns": null,
            "grid_auto_flow": null,
            "grid_auto_rows": null,
            "grid_column": null,
            "grid_gap": null,
            "grid_row": null,
            "grid_template_areas": null,
            "grid_template_columns": null,
            "grid_template_rows": null,
            "height": null,
            "justify_content": null,
            "justify_items": null,
            "left": null,
            "margin": null,
            "max_height": null,
            "max_width": null,
            "min_height": null,
            "min_width": null,
            "object_fit": null,
            "object_position": null,
            "order": null,
            "overflow": null,
            "overflow_x": null,
            "overflow_y": null,
            "padding": null,
            "right": null,
            "top": null,
            "visibility": null,
            "width": null
          }
        },
        "ee7ed57907b34da88f27f0370d325ce4": {
          "model_module": "@jupyter-widgets/controls",
          "model_name": "DescriptionStyleModel",
          "model_module_version": "1.5.0",
          "state": {
            "_model_module": "@jupyter-widgets/controls",
            "_model_module_version": "1.5.0",
            "_model_name": "DescriptionStyleModel",
            "_view_count": null,
            "_view_module": "@jupyter-widgets/base",
            "_view_module_version": "1.2.0",
            "_view_name": "StyleView",
            "description_width": ""
          }
        },
        "df84ee6dc21d46d3a220542696f65cf0": {
          "model_module": "@jupyter-widgets/base",
          "model_name": "LayoutModel",
          "model_module_version": "1.2.0",
          "state": {
            "_model_module": "@jupyter-widgets/base",
            "_model_module_version": "1.2.0",
            "_model_name": "LayoutModel",
            "_view_count": null,
            "_view_module": "@jupyter-widgets/base",
            "_view_module_version": "1.2.0",
            "_view_name": "LayoutView",
            "align_content": null,
            "align_items": null,
            "align_self": null,
            "border": null,
            "bottom": null,
            "display": null,
            "flex": null,
            "flex_flow": null,
            "grid_area": null,
            "grid_auto_columns": null,
            "grid_auto_flow": null,
            "grid_auto_rows": null,
            "grid_column": null,
            "grid_gap": null,
            "grid_row": null,
            "grid_template_areas": null,
            "grid_template_columns": null,
            "grid_template_rows": null,
            "height": null,
            "justify_content": null,
            "justify_items": null,
            "left": null,
            "margin": null,
            "max_height": null,
            "max_width": null,
            "min_height": null,
            "min_width": null,
            "object_fit": null,
            "object_position": null,
            "order": null,
            "overflow": null,
            "overflow_x": null,
            "overflow_y": null,
            "padding": null,
            "right": null,
            "top": null,
            "visibility": null,
            "width": null
          }
        },
        "41146de71b99490585176f82c5b8aa0d": {
          "model_module": "@jupyter-widgets/controls",
          "model_name": "ProgressStyleModel",
          "model_module_version": "1.5.0",
          "state": {
            "_model_module": "@jupyter-widgets/controls",
            "_model_module_version": "1.5.0",
            "_model_name": "ProgressStyleModel",
            "_view_count": null,
            "_view_module": "@jupyter-widgets/base",
            "_view_module_version": "1.2.0",
            "_view_name": "StyleView",
            "bar_color": null,
            "description_width": ""
          }
        },
        "edb6369fa1464d79805c380fc4fbf768": {
          "model_module": "@jupyter-widgets/base",
          "model_name": "LayoutModel",
          "model_module_version": "1.2.0",
          "state": {
            "_model_module": "@jupyter-widgets/base",
            "_model_module_version": "1.2.0",
            "_model_name": "LayoutModel",
            "_view_count": null,
            "_view_module": "@jupyter-widgets/base",
            "_view_module_version": "1.2.0",
            "_view_name": "LayoutView",
            "align_content": null,
            "align_items": null,
            "align_self": null,
            "border": null,
            "bottom": null,
            "display": null,
            "flex": null,
            "flex_flow": null,
            "grid_area": null,
            "grid_auto_columns": null,
            "grid_auto_flow": null,
            "grid_auto_rows": null,
            "grid_column": null,
            "grid_gap": null,
            "grid_row": null,
            "grid_template_areas": null,
            "grid_template_columns": null,
            "grid_template_rows": null,
            "height": null,
            "justify_content": null,
            "justify_items": null,
            "left": null,
            "margin": null,
            "max_height": null,
            "max_width": null,
            "min_height": null,
            "min_width": null,
            "object_fit": null,
            "object_position": null,
            "order": null,
            "overflow": null,
            "overflow_x": null,
            "overflow_y": null,
            "padding": null,
            "right": null,
            "top": null,
            "visibility": null,
            "width": null
          }
        },
        "0e4151c6cff940f1aef9ed8362f2af58": {
          "model_module": "@jupyter-widgets/controls",
          "model_name": "DescriptionStyleModel",
          "model_module_version": "1.5.0",
          "state": {
            "_model_module": "@jupyter-widgets/controls",
            "_model_module_version": "1.5.0",
            "_model_name": "DescriptionStyleModel",
            "_view_count": null,
            "_view_module": "@jupyter-widgets/base",
            "_view_module_version": "1.2.0",
            "_view_name": "StyleView",
            "description_width": ""
          }
        }
      }
    }
  },
  "nbformat": 4,
  "nbformat_minor": 5
}
